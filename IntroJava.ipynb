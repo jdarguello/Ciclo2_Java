{
  "nbformat": 4,
  "nbformat_minor": 0,
  "metadata": {
    "colab": {
      "name": "IntroJava.ipynb",
      "provenance": [],
      "collapsed_sections": [],
      "include_colab_link": true
    },
    "kernelspec": {
      "name": "java",
      "display_name": "java"
    }
  },
  "cells": [
    {
      "cell_type": "markdown",
      "metadata": {
        "id": "view-in-github",
        "colab_type": "text"
      },
      "source": [
        "<a href=\"https://colab.research.google.com/github/jdarguello/Ciclo2_Java/blob/master/IntroJava.ipynb\" target=\"_parent\"><img src=\"https://colab.research.google.com/assets/colab-badge.svg\" alt=\"Open In Colab\"/></a>"
      ]
    },
    {
      "cell_type": "markdown",
      "metadata": {
        "id": "PtfjlyYaSgIw"
      },
      "source": [
        "<div align=\"center\">\n",
        "  <h1><strong>Introducción a <i>Java</i></strong></h1>\n",
        "  <p><strong>Hecho por:</strong> Juan David Argüello Plata</p>\n",
        "</div>\n",
        "\n",
        "\n",
        "<div align=\"justify\">\n",
        "\n",
        "### __Introducción:__\n",
        "Java es un lenguaje de programación _estático_ que emplea un paradigma orientado a la eficiencia de recursos computacionales. El presente trabajo presenta un resumen genérico relacionado con los fundamentos de programación en este lenguaje que busca brindar una serie de ejemplos interactivos que faciliten el proceso de aprendizaje. Este trabajo emplea `JShell` para la ejecución de los diferentes algoritmos.\n",
        "</div>\n",
        "\n",
        "---\n",
        "\n",
        "_Nota:_ __ejecuta__ este primer bloque de código antes de utilizar el material interactivo, luego debes recargar la página &#8635; para poder usarlo sin problema."
      ]
    },
    {
      "cell_type": "code",
      "metadata": {
        "id": "u9zHtHc0vjoR",
        "collapsed": true
      },
      "source": [
        "!wget https://github.com/SpencerPark/IJava/releases/download/v1.3.0/ijava-1.3.0.zip\n",
        "!unzip ijava-1.3.0.zip\n",
        "!python install.py --sys-prefix"
      ],
      "execution_count": null,
      "outputs": []
    },
    {
      "cell_type": "markdown",
      "metadata": {
        "id": "l57AzpGWSiL1"
      },
      "source": [
        "### __Generalidades__\n",
        "\n",
        "Recuerda que puedes hacer comentarios en el código. Pueden ser:\n",
        "\n",
        "* Una línea $\\rightarrow$  `//`.\n",
        "* Multilínea $\\rightarrow$ `/* <comentario> */`"
      ]
    },
    {
      "cell_type": "code",
      "metadata": {
        "id": "tB_UVXfQSmnB"
      },
      "source": [
        "//Ejemplo de un comentario de línea.\n",
        "\n",
        "/*\n",
        "  Ejemplo de un comentario multilínea.\n",
        "*/"
      ],
      "execution_count": null,
      "outputs": []
    },
    {
      "cell_type": "markdown",
      "metadata": {
        "id": "xUKhB6d6UuHu"
      },
      "source": [
        "Para impresión de código, puedes usar:"
      ]
    },
    {
      "cell_type": "code",
      "metadata": {
        "id": "R7pkXf5HSrpA"
      },
      "source": [
        "System.out.println(\"¡Hola!\");"
      ],
      "execution_count": null,
      "outputs": []
    },
    {
      "cell_type": "markdown",
      "metadata": {
        "id": "wXAiAolhSvPD"
      },
      "source": [
        "### __1. Variables__\n",
        "\n",
        "Existen diferentes tipos y subtipos de variables. Al igual que Python, se encuentran los tipos principales:\n",
        "\n",
        "* Numérica.\n",
        "* Texto.\n",
        "* Array.\n",
        "* Maps (_diccionarios_).\n",
        "\n",
        "#### 1.1. Variable numérica\n",
        "\n",
        "Las variables numéricas presentan diferentes subtipos que se resumen en la siguiente Tabla.\n",
        "\n",
        "| Subtipo | Descripción | Tamaño | Dominio |\n",
        "| ------- | ----------- | ------ | ------- |\n",
        "| byte    | entero      | 8 bits | -128 a 127 |\n",
        "| short    | entero     | 16 bits | -32,768 a 32,767 | \n",
        "| int     | entero      | 32 bits | -2,147,483,648 a 2,147,483,647 |\n",
        "| long    | entero      | 64 bits | -9,223,372,036,854,774,808 a 9,223,372,036,854,774,807 |\n",
        "| float   | real        | 32 bits | $-10^{32}$ a $10^{32}$ |\n",
        "| double  | real        | 64 bits | $-10^{300}$ a $10^{300}$ |\n",
        "| boolean | lógico       | 1 bit   | true o false |\n",
        "\n",
        "<div align=\"center\">\n",
        "  <i>Tabla 1.</i> Subtipos de variable numérica. \n",
        "</div>"
      ]
    },
    {
      "cell_type": "code",
      "metadata": {
        "id": "BiORO1hxxcYf"
      },
      "source": [
        "//Ejemplo de creación de variable\n",
        "byte x = 5;\n",
        "System.out.println(\"La variable 'x' contiene \" + x);"
      ],
      "execution_count": null,
      "outputs": []
    },
    {
      "cell_type": "markdown",
      "metadata": {
        "id": "Tt7tY9cdYj4s"
      },
      "source": [
        "Ejemplo de operaciones matemáticas:"
      ]
    },
    {
      "cell_type": "code",
      "metadata": {
        "id": "PazLnSt5Y7zi"
      },
      "source": [
        "//Suma\n",
        "byte num1 = 1;\n",
        "short num2 = 20;\n",
        "System.out.println(\"num1 + num2 = \" + (num1+num2));\n",
        "//Resta\n",
        "System.out.println(\"num1 - num2 = \" + (num1-num2));\n",
        "//Multiplicación\n",
        "System.out.println(\"num1*num2 = \" + (num1*num2));\n",
        "//División\n",
        "System.out.println(\"num1/num2 = \" + (((float)(num1))/num2));  //Para la división, es necesario convertir \n",
        "                                                              //el numerador en punto flotante"
      ],
      "execution_count": null,
      "outputs": []
    },
    {
      "cell_type": "markdown",
      "metadata": {
        "id": "AewiaQMRaRXa"
      },
      "source": [
        "#### Ejercicio:\n",
        "\n",
        "Resuelve la siguiente ecuación matemática: \n",
        "\n",
        "$$\n",
        "\\begin{equation}\n",
        "  z = \\frac{x^2}{x-y}\n",
        "\\end{equation}\n",
        "$$\n",
        "\n",
        "Dónde:\n",
        "* $x = 10$\n",
        "* $y = 2000$\n",
        "---\n",
        "_Nota:_ Se recomienda emplear la librería `java.lang.Math`"
      ]
    },
    {
      "cell_type": "code",
      "metadata": {
        "id": "suCx5UiYdlqG"
      },
      "source": [
        "//Respuesta -> z = -0.05025...\n",
        "import java.lang.Math;\n",
        "\n",
        "byte x = 10;\n",
        "short y = 2000;\n",
        "float z;        //Se declara la variable 'z' como una varible 'null'. \n",
        "                //De esta manera, puedes especificar directamente: z = (x^2)/(x-y)\n",
        "\n",
        "//Ejemplo de potencia -> x^2 = 100\n",
        "System.out.println(\"x^2 = \" + Math.pow(x,2));"
      ],
      "execution_count": null,
      "outputs": []
    },
    {
      "cell_type": "markdown",
      "metadata": {
        "id": "T5fK5XP31nLX"
      },
      "source": [
        "Una de las ventajas de programar en Java, es que es posible emplear una separación de los miles en las variables numéricas para facilitar su redacción."
      ]
    },
    {
      "cell_type": "code",
      "metadata": {
        "id": "xQZFv2AB1vgN"
      },
      "source": [
        "int salario = 20_000_000;\n",
        "System.out.println(\"El salario es \" + salario);"
      ],
      "execution_count": null,
      "outputs": []
    },
    {
      "cell_type": "markdown",
      "metadata": {
        "id": "l69s0uxHeovw"
      },
      "source": [
        "#### 1.2. Variable de texto\n",
        "\n",
        "En cuanto a texto, se disponen de los siguientes tipos principales:\n",
        "\n",
        "* `char` $\\hspace{0.35cm}$ $\\rightarrow$ especifica una letra o caracter. Emplea comillas simples (`''`) en su estructura.\n",
        "* `String` $\\rightarrow$ permite redactar palabras y texto. Emplea en su estructura doble comillas (`\"\"`)."
      ]
    },
    {
      "cell_type": "code",
      "metadata": {
        "id": "yPDayD26gxws"
      },
      "source": [
        "char l = 'A';\n",
        "String frase = \"lgoritmo en Java\";\n",
        "String eq = l+frase;\n",
        "System.out.println(eq);"
      ],
      "execution_count": null,
      "outputs": []
    },
    {
      "cell_type": "markdown",
      "metadata": {
        "id": "fkJ3Qy_zhduL"
      },
      "source": [
        "#### 1.3. Variables tipo Array\n",
        "\n",
        "Con este tipo de variables es posible construir estructuras de datos. La forma general es la siguiente:\n",
        "\n",
        "```\n",
        "  <tipo_variable>[] nom_Array = {cont1, cont2, ...};\n",
        "```\n",
        "\n",
        "Además de poder emplear las naturalezas vistas anteriormente, es posible utilizar el tipo `Object` para crear vectores que empleen una mezcla entre componentes de tipo texto y número."
      ]
    },
    {
      "cell_type": "code",
      "metadata": {
        "id": "upnhy7xy2ibH"
      },
      "source": [
        "//Vector 1D \n",
        "byte[] nums = {1,20,50};\n",
        "System.out.println(nums);"
      ],
      "execution_count": null,
      "outputs": []
    },
    {
      "cell_type": "markdown",
      "metadata": {
        "id": "2w7uqw5bPlo1"
      },
      "source": [
        "Para imprimir el vector, es necesario utilizar la librería `java.util.Arrays` y emplear el método `Arrays.toString()`."
      ]
    },
    {
      "cell_type": "code",
      "metadata": {
        "id": "GcU9J6GlPsHa"
      },
      "source": [
        "import java.util.Arrays;\n",
        "\n",
        "System.out.println(Arrays.toString(nums));"
      ],
      "execution_count": null,
      "outputs": []
    },
    {
      "cell_type": "code",
      "metadata": {
        "id": "7LBSV065P3Tg"
      },
      "source": [
        "//persona = [nombre, edad]\n",
        "Object[] persona = {\"David\", 20};\n",
        "\n",
        "System.out.println(persona[0] + \" tiene \" + persona[1] + \" años.\");"
      ],
      "execution_count": null,
      "outputs": []
    }
  ]
}