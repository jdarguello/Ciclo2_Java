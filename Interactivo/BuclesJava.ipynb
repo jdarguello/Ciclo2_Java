{
  "nbformat": 4,
  "nbformat_minor": 0,
  "metadata": {
    "colab": {
      "name": "BuclesJava.ipynb",
      "provenance": [],
      "collapsed_sections": [],
      "include_colab_link": true
    },
    "kernelspec": {
      "name": "java",
      "display_name": "java"
    }
  },
  "cells": [
    {
      "cell_type": "markdown",
      "metadata": {
        "id": "view-in-github",
        "colab_type": "text"
      },
      "source": [
        "<a href=\"https://colab.research.google.com/github/jdarguello/Ciclo2_Java/blob/master/BuclesJava.ipynb\" target=\"_parent\"><img src=\"https://colab.research.google.com/assets/colab-badge.svg\" alt=\"Open In Colab\"/></a>"
      ]
    },
    {
      "cell_type": "markdown",
      "metadata": {
        "id": "PtfjlyYaSgIw"
      },
      "source": [
        "<div align=\"center\">\n",
        "  <h1><strong>Ciclos <i>for</i>, <i>while</i> y <i>do-while</i></strong></h1>\n",
        "  <strong>Hecho por:</strong> Juan David Argüello Plata\n",
        "</div>\n",
        "\n",
        "\n",
        "## __Introducción__\n",
        "\n",
        "<div align=\"justify\">\n",
        "\n",
        "Los ciclos iterativos son la estructura de un sistema de automatización. Facilitan el proceso de cálculo y la toma de decisiones durante el desarrollo de un algoritmo de programación. Una de las características más interesantes de estas estructuras es el hecho de que la lógica que aplica para un par de casos es la misma que la de cientos de miles.\n",
        "\n",
        "</div>\n",
        "\n",
        "---\n",
        "\n",
        "_Nota:_ __ejecuta__ este primer bloque de código antes de utilizar el material interactivo, luego debes recargar la página &#8635; para poder usarlo sin problema.\n"
      ]
    },
    {
      "cell_type": "code",
      "metadata": {
        "id": "u9zHtHc0vjoR",
        "collapsed": true
      },
      "source": [
        "!wget https://github.com/SpencerPark/IJava/releases/download/v1.3.0/ijava-1.3.0.zip\n",
        "!unzip ijava-1.3.0.zip\n",
        "!python install.py --sys-prefix"
      ],
      "execution_count": null,
      "outputs": []
    },
    {
      "cell_type": "markdown",
      "metadata": {
        "id": "23P-H71cvi0j"
      },
      "source": [
        "## __1. Ciclo for__\n",
        "\n",
        "El ciclo for se trata de una estructura estática en la que se define un punto de partida, un punto final y un incremento. Presenta dos enfoques de análisis principales:\n",
        "\n",
        "* Enfoque numérico.\n",
        "* Enfoque directo.\n",
        "\n",
        "### 1.1. Enfoque numérico\n",
        "\n",
        "El enfoque numérico presenta la siguiente estructura básica:\n",
        "\n",
        "```\n",
        "  for (<tipo_variable> i=punto_partida; i < punto_final; i = i + incremento) {\n",
        "    (desarrollo)\n",
        "  }\n",
        "```"
      ]
    },
    {
      "cell_type": "code",
      "metadata": {
        "id": "NZTb3nxZwWc2"
      },
      "source": [
        "//Ejemplo\n",
        "for (int i=0; i<10; i++) {    //\n",
        "  System.out.println(i);\n",
        "}"
      ],
      "execution_count": null,
      "outputs": []
    },
    {
      "cell_type": "code",
      "metadata": {
        "id": "fSN_FP0Pxp6g"
      },
      "source": [
        "//Se pueden emplear otras naturalezas, por ejemplo:\n",
        "System.out.println(\"Puedes cambiar la naturaleza, pero debes recordar los límites.\");\n",
        "System.out.println(\"Si eliges como límite final un valor por encima de 127, este algoritmo tendrá problemas...\");\n",
        "\n",
        "for (byte i=0; i<10; i=(byte)(i+1)) {\n",
        "  System.out.println(i);\n",
        "}"
      ],
      "execution_count": null,
      "outputs": []
    },
    {
      "cell_type": "code",
      "metadata": {
        "id": "TWFgO1GjyeN0"
      },
      "source": [
        "//El orden de ejecución también puede ser descendente\n",
        "for (byte i=10; i >= 0; i--) {\n",
        "  System.out.println(i);\n",
        "}"
      ],
      "execution_count": null,
      "outputs": []
    },
    {
      "cell_type": "code",
      "metadata": {
        "id": "STZPsN-Tzcyg"
      },
      "source": [
        "//Puedes realizar procesoos de sumatoria\n",
        "byte sum = 0; //Inicio de la sumatoria\n",
        "for (int i=0; i<10; i=i+2) {\n",
        "  sum++;\n",
        "}\n",
        "\n",
        "System.out.println(\"Número de iteraciones = \" + sum);"
      ],
      "execution_count": null,
      "outputs": []
    },
    {
      "cell_type": "markdown",
      "metadata": {
        "id": "Hi4sg1hFysgf"
      },
      "source": [
        "### 1.2. Enfoque directo\n",
        "\n",
        "El enfoque directo se emplea para iterar directamente sobre una estructura de datos. La estructura básica de este enfoque es la siguiente:\n",
        "\n",
        "```\n",
        "  for (<tipo_variable> id: nom_array) {\n",
        "    (desarrollo)\n",
        "  }\n",
        "```"
      ]
    },
    {
      "cell_type": "code",
      "metadata": {
        "id": "-6LN1D6TzEUG"
      },
      "source": [
        "int[] nums = {10,50,40};\n",
        "\n",
        "for (int num: nums) {\n",
        "  System.out.println(num);\n",
        "}"
      ],
      "execution_count": null,
      "outputs": []
    },
    {
      "cell_type": "markdown",
      "metadata": {
        "id": "yx4Qfl1lzkba"
      },
      "source": [
        "### 1.3. Ejercicios ciclo _for_\n",
        "\n",
        "#### 1.3.1 Factorial\n",
        "\n",
        "Elabora un algoritmo que calcule el factorial de un número. Recuerda que el factorial se calcula de la siguiente forma:\n",
        "\n",
        "$$\n",
        "\\begin{equation}\n",
        "  x! = x (x-1) (x-2) \\cdots 1\n",
        "\\end{equation}\n",
        "$$\n"
      ]
    },
    {
      "cell_type": "code",
      "metadata": {
        "id": "NiMgt2KU0Crw"
      },
      "source": [
        "import java.util.Scanner;                 //Librería interactiva de usuario\n",
        "\n",
        "Scanner input = new Scanner(System.in);   //Creación de variable interactiva 'input'\n",
        "\n",
        "System.out.println(\"Ingresa un número entero positivo\");\n",
        "byte x = input.nextByte();                //Número de entrada\n",
        "\n",
        "//Realiza tu desarrollo\n"
      ],
      "execution_count": null,
      "outputs": []
    },
    {
      "cell_type": "markdown",
      "metadata": {
        "id": "xJws3sZM0cUJ"
      },
      "source": [
        "#### 1.3.2 Mayoría de edad\n",
        "\n",
        "Elabora un algoritmo iterativo que identifique qué personas son mayores de edad."
      ]
    },
    {
      "cell_type": "code",
      "metadata": {
        "id": "8FlM_zH70286"
      },
      "source": [
        "Object[][] personas = {\n",
        "  {\"Andrea\", 22},\n",
        "  {\"Julián\", 25},\n",
        "  {\"Fernanda\", 16}\n",
        "}; \n"
      ],
      "execution_count": null,
      "outputs": []
    },
    {
      "cell_type": "markdown",
      "metadata": {
        "id": "zmU3trAk1GiF"
      },
      "source": [
        "#### 1.3.3 Producto estrella\n",
        "\n",
        "Elabora un algoritmo que identifique:\n",
        "1. Cuál es el producto más vendido.\n",
        "2. Cuál es el producto más rentable.\n",
        "\n",
        "---\n",
        "\n",
        "_Nota:_ puedes encontrar información sobre `ArrayList` en los siguientes enlaces:\n",
        "\n",
        "| Título | Autor/es | Capítulo | Enlace |\n",
        "| ------ | -------- | -------- | ------ |\n",
        "| Introducción a _Java_ | Juan David Argüello Plata | Segundo capítulo - Arrays | [![Open In Colab](https://colab.research.google.com/assets/colab-badge.svg)](https://colab.research.google.com/github/jdarguello/Ciclo2_Java/blob/master/Interactivo/IntroJava.ipynb) |\n",
        "| Programación en Java 2 | Jesús Sánchez Allende | Capítulo 6. Estructuras de almacenamiento | [eLibro.net](https://bibliotecavirtual.uis.edu.co:4259/es/lc/uis/titulos/50077/?as_all=java&as_all_op=unaccent__icontains&prev=as) |\n",
        "| Programación orientada a objetos | Héctor Arturo Flórez Fernández | Capítulo 6.4 Clase ArrayList | [digitalia](https://bibliotecavirtual.uis.edu.co:3806/a/30030/programacion-orientada-a-objetos-usando-java) | \n",
        "\n",
        "<div align=\"center\">\n",
        "  <i>Tabla 1.</i> Bibliografía de vectores y matrices.\n",
        "</div>\n",
        "\n",
        "Para los libros, necesitarás usar tu usuario y contraseña de la biblioteca UIS. Si no has utilizado tus credenciales antes, recuerda:\n",
        " \n",
        "Usuario: documento de identidad\n",
        "\n",
        "Contraseña: últimos 4 digitos\n"
      ]
    },
    {
      "cell_type": "code",
      "metadata": {
        "id": "m5vWP5sK1fsv"
      },
      "source": [
        "import java.util.*;\n",
        "\n",
        "//Matriz bidimensional con ArrayList\n",
        "//Estructura: [producto, cant_vendida, valor_unitario, costo_produccion]\n",
        "ArrayList<ArrayList<Object>> ventas = new ArrayList<>(\n",
        "  Arrays.asList(\n",
        "    new ArrayList<Object>(\n",
        "      Arrays.asList(\"Pan dulce\", 200, 100, 50)\n",
        "    ),\n",
        "    new ArrayList<Object>(\n",
        "      Arrays.asList(\"Pan de rollo\", 100, 500, 100)\n",
        "    ),\n",
        "    new ArrayList<Object>(\n",
        "      Arrays.asList(\"Roscón\", 110, 1000, 200)\n",
        "    )\n",
        "  )\n",
        ");\n",
        "\n",
        "System.out.println(\"Base de datos de ventas:\");\n",
        "System.out.println(ventas);\n",
        "\n",
        "//Recuerda que puedes acceder a la información de manera numérica con el método 'get'\n",
        "System.out.println(\"\\nInformación del pan dulce:\");\n",
        "System.out.println(ventas.get(0));\n",
        "\n",
        "System.out.println(\"Precio del pan dulce: $\" + ventas.get(0).get(2));\n",
        "\n",
        "\n"
      ],
      "execution_count": null,
      "outputs": []
    },
    {
      "cell_type": "markdown",
      "metadata": {
        "id": "2eoQJtoOLrjc"
      },
      "source": [
        "## __2. Ciclo _while___\n",
        "\n",
        "Ciclo dinámico que puede tender a ejecutarse de manera indefinida hasta que se cumpla una condición particular especificada. \n",
        "\n",
        "_Estructura:_\n",
        "\n",
        "```\n",
        "  while (cond) {\n",
        "    (desarrollo)\n",
        "  }\n",
        "```"
      ]
    },
    {
      "cell_type": "code",
      "metadata": {
        "id": "1e7hM4AmMNdZ"
      },
      "source": [
        "//Ejemplo de ciclo infinito\n",
        "//Para detenerlo: REINICIA el entorno de ejecución (lo encuentras arriba, en la pestaña de archivo, editar...)\n",
        "\n",
        "boolean condicion = true;\n",
        "while (condicion) {\n",
        "  System.out.println(\"Infinito\");\n",
        "}"
      ],
      "execution_count": null,
      "outputs": []
    },
    {
      "cell_type": "markdown",
      "metadata": {
        "id": "RFWfo0rsONSv"
      },
      "source": [
        "Para deterner un ciclo que tiende a ser infinito, puedes usar el operador `break`."
      ]
    },
    {
      "cell_type": "code",
      "metadata": {
        "id": "AA4TKbxSOBX3"
      },
      "source": [
        "boolean condicion = true;\n",
        "while (condicion) {\n",
        "  System.out.println(\"finito\");\n",
        "  break;\n",
        "}"
      ],
      "execution_count": null,
      "outputs": []
    },
    {
      "cell_type": "markdown",
      "metadata": {
        "id": "ykTncjXKOYmQ"
      },
      "source": [
        "Puedes emplear las condiciones vistas en los capítulos 1 y 2 de _Condicionales_ $\\rightarrow$ [![Open In Colab](https://colab.research.google.com/assets/colab-badge.svg)](https://colab.research.google.com/github/jdarguello/Ciclo2_Java/blob/master/Interactivo/CondJava.ipynb)\n",
        "\n",
        "Por ejemplo:"
      ]
    },
    {
      "cell_type": "code",
      "metadata": {
        "id": "a_yOEbNuOrf-"
      },
      "source": [
        "byte cont = 0;\n",
        "while (cont < 10) {\n",
        "  System.out.println(\"cont = \" + cont);\n",
        "  cont++;\n",
        "}"
      ],
      "execution_count": null,
      "outputs": []
    },
    {
      "cell_type": "markdown",
      "metadata": {
        "id": "MuPAaElrUJlO"
      },
      "source": [
        "## __3. do-while__\n",
        "\n",
        "Opera de una forma similar al ciclo while, la diferencia es que garantiza que se produzca una iteración aún cuando la condición sea falsa.\n",
        "\n",
        "_Estructura:_\n",
        "\n",
        "```\n",
        "  do {\n",
        "    (desarrollo)\n",
        "  } while (condicion);\n",
        "```"
      ]
    },
    {
      "cell_type": "code",
      "metadata": {
        "id": "TbDVUu-IUcvR"
      },
      "source": [
        "boolean condicion = false;\n",
        "\n",
        "do {\n",
        "  System.out.println(\"¿Entra?\");\n",
        "} while (condicion);"
      ],
      "execution_count": null,
      "outputs": []
    },
    {
      "cell_type": "markdown",
      "metadata": {
        "id": "3gr8JJ-OPAvU"
      },
      "source": [
        "## __4. Ejercicios__\n",
        "\n",
        "### 4.1 Contraseña\n",
        "\n",
        "Elabora un algoritmo que simule la petición de contraseña de una red social o un correo electrónico.\n",
        "\n",
        "_Ejemplo:_\n",
        "\n",
        "```\n",
        "  USUARIO:               juanda\n",
        "  CONTRASEÑA:            *****\n",
        "  REPITE CONTRASEÑA:     *****\n",
        "```"
      ]
    },
    {
      "cell_type": "code",
      "metadata": {
        "id": "aKlP_LsgPVT7"
      },
      "source": [
        "import java.util.Scanner;\n",
        "\n",
        "Scanner input = new Scanner(System.in);\n",
        "\n"
      ],
      "execution_count": null,
      "outputs": []
    }
  ]
}