{
  "nbformat": 4,
  "nbformat_minor": 0,
  "metadata": {
    "colab": {
      "name": "EstructurasDatosJava.ipynb",
      "provenance": [],
      "collapsed_sections": [],
      "include_colab_link": true
    },
    "kernelspec": {
      "name": "java",
      "display_name": "java"
    }
  },
  "cells": [
    {
      "cell_type": "markdown",
      "metadata": {
        "id": "view-in-github",
        "colab_type": "text"
      },
      "source": [
        "<a href=\"https://colab.research.google.com/github/jdarguello/Ciclo2_Java/blob/master/EstructurasDatosJava.ipynb\" target=\"_parent\"><img src=\"https://colab.research.google.com/assets/colab-badge.svg\" alt=\"Open In Colab\"/></a>"
      ]
    },
    {
      "cell_type": "markdown",
      "metadata": {
        "id": "PtfjlyYaSgIw"
      },
      "source": [
        "<div align=\"center\">\n",
        "  <h1><strong>Estructuras de datos</strong></h1>\n",
        "  <strong>Hecho por:</strong> Juan David Argüello Plata\n",
        "</div>\n",
        "\n",
        "\n",
        "## __Introducción__\n",
        "\n",
        "<div align=\"justify\">\n",
        "\n",
        "Las estructuras de datos son el paso comunicante entre un desarrollo de software y las bases de datos. Normalmente, se trata de vectores multidimensionales o de mapas (diccionarios).\n",
        "\n",
        "\n",
        "</div>\n",
        "\n",
        "---\n",
        "\n",
        "_Nota:_ __ejecuta__ este primer bloque de código antes de utilizar el material interactivo, luego debes recargar la página &#8635; para poder usarlo sin problema."
      ]
    },
    {
      "cell_type": "code",
      "metadata": {
        "id": "u9zHtHc0vjoR",
        "collapsed": true
      },
      "source": [
        "!wget https://github.com/SpencerPark/IJava/releases/download/v1.3.0/ijava-1.3.0.zip\n",
        "!unzip ijava-1.3.0.zip\n",
        "!python install.py --sys-prefix"
      ],
      "execution_count": null,
      "outputs": []
    },
    {
      "cell_type": "markdown",
      "metadata": {
        "id": "x3AIR3t32N4A"
      },
      "source": [
        "## __1. Vectores multidimensionales__\n",
        "\n",
        "Existen diferentes herramientas que permiten la construcción de vectores multidimensionales en Java. Entre los más utilizados se destacan: `Arrays` y `ArrayList`.\n",
        "\n",
        "### 1.1. Arrays\n",
        "\n",
        "Estructuras de alta eficiencia que emplean cualquier naturaleza de variable para su desarrollo. Suelen emplearse como estructuras estáticas, sin embargo, es posible modificar su contenido.\n",
        "\n",
        "#### 1.1.1 Arrays vacíos\n",
        "\n",
        "Se elaboran para adicionar contenido posterior, normalmente a través de ciclos iterativos."
      ]
    },
    {
      "cell_type": "code",
      "metadata": {
        "id": "zM-Ff42z3b5f"
      },
      "source": [
        "int[] nums = {};\n",
        "\n",
        "//Para imprimir -> Arrays.toString()\n",
        "System.out.println(Arrays.toString(nums));"
      ],
      "execution_count": null,
      "outputs": []
    },
    {
      "cell_type": "code",
      "metadata": {
        "id": "9M3rosj06tUE"
      },
      "source": [
        "String[] texto = new String[]{};\n",
        "\n",
        "System.out.println(Arrays.toString(texto));"
      ],
      "execution_count": null,
      "outputs": []
    },
    {
      "cell_type": "code",
      "metadata": {
        "id": "pv7RStlCGaKG"
      },
      "source": [
        "//Es posible crear un array vacío de longitud inicial\n",
        "int long_inicial = 5;\n",
        "\n",
        "int[] edades = new int[long_inicial];\n",
        "\n",
        "System.out.println(Arrays.toString(edades));"
      ],
      "execution_count": null,
      "outputs": []
    },
    {
      "cell_type": "markdown",
      "metadata": {
        "id": "Sac1otdC69xc"
      },
      "source": [
        "Para reiniciar un vector:"
      ]
    },
    {
      "cell_type": "code",
      "metadata": {
        "id": "SLH-CYtR7DPL"
      },
      "source": [
        "int[] nums = {1,4,7};\n",
        "\n",
        "nums = new int[]{};"
      ],
      "execution_count": null,
      "outputs": []
    },
    {
      "cell_type": "markdown",
      "metadata": {
        "id": "KsvezlyR7ZkZ"
      },
      "source": [
        "#### 1.1.2 Adición de contenido\n",
        "\n",
        "Para la adición de contenido de un array, se debe, primero, crear una copia del vector mediante el método `copyOf`, de la librería `Arrays`, ampliando su contenido en una unidad. Finalmente, se especifica el último elemento del vector. "
      ]
    },
    {
      "cell_type": "code",
      "metadata": {
        "id": "HtmkRMYu8ZDi"
      },
      "source": [
        "String[] nombres = {\"Tomás\", \"Juliana\"};\n",
        "\n",
        "//Copia del array 'nombres'\n",
        "nombres = Arrays.copyOf(nombres, nombres.length+1);\n",
        "\n",
        "//Especificación del último elemento\n",
        "nombres[nombres.length-1] = \"Leonardo\";\n",
        "\n",
        "System.out.println(Arrays.toString(nombres));"
      ],
      "execution_count": null,
      "outputs": []
    },
    {
      "cell_type": "markdown",
      "metadata": {
        "id": "wrT182x1DQcR"
      },
      "source": [
        "#### 1.1.3 Remoción\n",
        "\n",
        "Para remover un elemento en un vector, se puede emplear el método `remove()`, de la librería `ArrayUtils` (requiere descarga en http://commons.apache.org/proper/commons-net/download_net.cgi), o emplear un ciclo iterativo que agregue los elementos del vector original al nuevo."
      ]
    },
    {
      "cell_type": "code",
      "metadata": {
        "id": "ThXsw9toDhDu"
      },
      "source": [
        "int[] edades = {15,20,100};\n",
        "\n",
        "System.out.println(\"Array original: \" + Arrays.toString(edades));\n",
        "\n",
        "byte del_el = 1;  //Número del elemento a borrar\n",
        "\n",
        "int[] array_edades = new int[edades.length-1]; //Vector vacío de longitud edades-1\n",
        "\n",
        "//Desarrollo\n",
        "int cont = 0;\n",
        "for (int i=0; i<edades.length;i++) {\n",
        "  if (i != del_el) {\n",
        "    array_edades[cont] = edades[i];\n",
        "    cont++;\n",
        "  }\n",
        "}\n",
        "\n",
        "System.out.println(\"Array editado: \" + Arrays.toString(array_edades));"
      ],
      "execution_count": null,
      "outputs": []
    },
    {
      "cell_type": "markdown",
      "metadata": {
        "id": "BrGUqGv29CTZ"
      },
      "source": [
        "### 1.2. ArrayList\n",
        "\n",
        "Tipo de estructura dinámica que emplea diferentes métodos para añadir, remover y editar el contenido de vectores.\n",
        "\n",
        "#### 1.2.1 Array vacío\n",
        "\n",
        "Para el desarrollo de un array vacío:"
      ]
    },
    {
      "cell_type": "code",
      "metadata": {
        "id": "O7wSsHR29kXQ"
      },
      "source": [
        "//vector 'numeros'\n",
        "ArrayList<Integer> numeros = new ArrayList();\n",
        "\n",
        "System.out.println(numeros);"
      ],
      "execution_count": null,
      "outputs": []
    },
    {
      "cell_type": "markdown",
      "metadata": {
        "id": "zAdjT8VR9761"
      },
      "source": [
        "Reinicio de un vector:"
      ]
    },
    {
      "cell_type": "code",
      "metadata": {
        "id": "RVhPtqrh9wPc"
      },
      "source": [
        "ArrayList<Integer> numeros = new ArrayList();\n",
        "\n",
        "numeros = new ArrayList();"
      ],
      "execution_count": null,
      "outputs": []
    },
    {
      "cell_type": "markdown",
      "metadata": {
        "id": "XnBpkhp3-F8E"
      },
      "source": [
        "#### 1.2.2 Adición de contenido\n",
        "\n",
        "Para añadir contenido, se puede emplear el método `add()`. Por ejemplo:"
      ]
    },
    {
      "cell_type": "code",
      "metadata": {
        "id": "kUiJwBEH-RFa"
      },
      "source": [
        "ArrayList<String> nombres = new ArrayList();\n",
        "\n",
        "nombres.add(\"Natalia\");\n",
        "nombres.add(\"Julieta\");\n",
        "\n",
        "System.out.println(nombres);"
      ],
      "execution_count": null,
      "outputs": []
    },
    {
      "cell_type": "markdown",
      "metadata": {
        "id": "2ESRdSZr-dmH"
      },
      "source": [
        "#### 1.2.3 Remoción de un elemento\n",
        "\n",
        "La remoción de elementos se puede desarrollar con el método `remove()`."
      ]
    },
    {
      "cell_type": "code",
      "metadata": {
        "id": "xLmu7nR3_BiS"
      },
      "source": [
        "ArrayList<Integer> numeros = new ArrayList(Arrays.asList(20,50,100));\n",
        "\n",
        "System.out.println(\"Array original: \" + numeros);\n",
        "\n",
        "//Remoción del primer elemento\n",
        "numeros.remove(0);\n",
        "\n",
        "System.out.println(\"Array editado: \" + numeros);"
      ],
      "execution_count": null,
      "outputs": []
    },
    {
      "cell_type": "markdown",
      "metadata": {
        "id": "ybiUge_E_l7g"
      },
      "source": [
        "#### 1.2.4 Uso de componentes\n",
        "\n",
        "Para usar el componente de un Array, se emplea el método `get()` para obtenerlo y el método `set()` para editarlo.\n",
        "\n"
      ]
    },
    {
      "cell_type": "code",
      "metadata": {
        "id": "FU5zIJbn_Brw"
      },
      "source": [
        "ArrayList<String> nombres = new ArrayList(Arrays.asList(\"Andrea\", \"Juliana\", \"Roberta\"));\n",
        "\n",
        "System.out.println(\"Array original: \" + nombres + \"\\n\");\n",
        "\n",
        "byte id = 0;\n",
        "System.out.println(\"Cambiaremos el nombre de '\" + nombres.get(id) + \"' por 'Manuela'\");\n",
        "\n",
        "nombres.set(0, \"Manuela\");\n",
        "\n",
        "System.out.println(\"\\nArray editado \" + nombres);"
      ],
      "execution_count": null,
      "outputs": []
    },
    {
      "cell_type": "markdown",
      "metadata": {
        "id": "7qW-s88sA5Nl"
      },
      "source": [
        "## __2. _Maps___\n",
        "\n",
        "Los mapas son estructuras del tipo `key` - `value`; es decir, el contenido se clasifica mediante el uso de _palabras clave_. A diferencia de los vectores, cuyo contenido está clasificado de forma numérica.\n",
        "\n",
        "Los tipos de mapas más populares son: `TreeMap` y `HashMap`. La diferencia entre uno y otro es que el primero emplea una estructura que garantiza un orden de los elementos y el segundo no.\n",
        "\n",
        "Los mapas pertenecen a la librería `java.util`. \n",
        "\n",
        "### 2.1. Estructura\n",
        "\n",
        "Los mapas presentan la siguiente estructura general (ejemplo de HashMap):\n",
        "\n",
        "```\n",
        "  HashMap<key_tipo, value_tipo> nombre_map = new HashMap();\n",
        "```\n",
        "\n",
        "Al igual que `ArrayList`, sólo puede emplear clases contenedoras en su estructura, y no variables primitivas. "
      ]
    },
    {
      "cell_type": "code",
      "metadata": {
        "id": "7Q1jzoQrJtkd"
      },
      "source": [
        "HashMap<String, Integer> personas = new HashMap();\n",
        "\n",
        "//Adición de elementos\n",
        "personas.put(\"Adrián\", 22);\n",
        "personas.put(\"Olga\", 50);\n",
        "\n",
        "System.out.println(personas);"
      ],
      "execution_count": null,
      "outputs": []
    },
    {
      "cell_type": "code",
      "metadata": {
        "id": "WgWrZGpHLSJ6"
      },
      "source": [
        "TreeMap<String, Integer> personas = new TreeMap();\n",
        "\n",
        "//Adición de elementos\n",
        "personas.put(\"Adrián\", 22);\n",
        "personas.put(\"Olga\", 50);\n",
        "\n",
        "System.out.println(personas);"
      ],
      "execution_count": null,
      "outputs": []
    },
    {
      "cell_type": "markdown",
      "metadata": {
        "id": "JuMePKLqMPtB"
      },
      "source": [
        "Para editar un contenido..."
      ]
    },
    {
      "cell_type": "code",
      "metadata": {
        "id": "hH_RlIb3L-bh"
      },
      "source": [
        "personas.put(\"Adrián\", 25);\n",
        "System.out.println(personas);"
      ],
      "execution_count": null,
      "outputs": []
    },
    {
      "cell_type": "markdown",
      "metadata": {
        "id": "Zi8D84WuL4Y9"
      },
      "source": [
        "### 2.2. Remoción de elementos\n",
        "\n",
        "Para eliminar un contenido, se debe emplear el método `remove()` y especificar la llave del elemento."
      ]
    },
    {
      "cell_type": "code",
      "metadata": {
        "id": "nyg_09TyNE0W"
      },
      "source": [
        "TreeMap<String, Integer> inventario = new TreeMap<String, Integer>();\n",
        "\n",
        "inventario.put(\"Tomate\", 5);\n",
        "inventario.put(\"Lechuga\", 6);\n",
        "\n",
        "System.out.println(inventario);\n",
        "\n",
        "//Remoción de elementos\n",
        "inventario.remove(\"Lechuga\");\n",
        "\n",
        "System.out.println(inventario);"
      ],
      "execution_count": null,
      "outputs": []
    },
    {
      "cell_type": "markdown",
      "metadata": {
        "id": "R5RGdVvqN0t6"
      },
      "source": [
        "### 2.3. Obtención de elementos\n",
        "\n",
        "Se emplea el método `get` para obtener el contenido de una llave."
      ]
    },
    {
      "cell_type": "code",
      "metadata": {
        "id": "r3jq18pFN8DH"
      },
      "source": [
        "HashMap<String, Object> cosas = new HashMap();\n",
        "\n",
        "cosas.put(\"Mesas\", 6);\n",
        "cosas.put(\"Sillas\", \"No hay\");\n",
        "\n",
        "System.out.println(\"¿Hay Sillas? \" + cosas.get(\"Sillas\"));\n"
      ],
      "execution_count": null,
      "outputs": []
    },
    {
      "cell_type": "markdown",
      "metadata": {
        "id": "3H7PeZo_E0VG"
      },
      "source": [
        "### 2.4. Iteración en mapas\n",
        "\n",
        "Para el desarrollo de un proceso iterativo en en los mapas, es necesario emplear el enfoque directo de iteración para la identificación de los `keys` y, con ello, los valores correspondientes."
      ]
    },
    {
      "cell_type": "code",
      "metadata": {
        "id": "XWfOeWX2FF_5"
      },
      "source": [
        "HashMap<String, Integer> personas = new HashMap();\n",
        "personas.put(\"Olga\", 22);\n",
        "personas.put(\"Edwin\", 50);\n",
        "\n",
        "for (Map.Entry<String, Integer> entry : personas.entrySet()) {\n",
        "  String key = entry.getKey();\n",
        "  int value = entry.getValue();\n",
        "  \n",
        "  System.out.println(\"Persona: \" + key + \". Edad: \" + value);\n",
        "}"
      ],
      "execution_count": null,
      "outputs": []
    },
    {
      "cell_type": "markdown",
      "metadata": {
        "id": "RKehvmmdN8TA"
      },
      "source": [
        "## __3. Ejercicios__\n",
        "\n",
        "### 3.1. Personas\n",
        "\n",
        "Elabora una estructura de datos, tanto en forma de `Array`, `ArrayList` y `Maps`, de los siguientes datos. \n",
        "\n",
        "| Nombre | Edad | \n",
        "| ------ | ---- |\n",
        "| Alfredo | 60  | \n",
        "| Daniel | 22   |\n",
        "| Laura  | 30   |\n"
      ]
    },
    {
      "cell_type": "code",
      "metadata": {
        "id": "LMn1oa3mFMyw"
      },
      "source": [
        ""
      ],
      "execution_count": null,
      "outputs": []
    },
    {
      "cell_type": "markdown",
      "metadata": {
        "id": "SNt9F_kd0fpk"
      },
      "source": [
        "### 3.2. Información personal\n",
        "\n",
        "Elabora una estructura de datos, tanto en forma de `Array`, `ArrayList` y `Maps`, de los siguientes datos. \n",
        "\n",
        "| Nombre | Edad | Cédula |\n",
        "| ------ | ---- | ------ |\n",
        "| Eduardo | 22  | 1.098.555.222 |\n",
        "| Alejandra | 30 | 553.255 |\n",
        "| Manuela | 11 | 2010.220.444 |"
      ]
    },
    {
      "cell_type": "code",
      "metadata": {
        "id": "s-Rwpfzn0gH-"
      },
      "source": [
        ""
      ],
      "execution_count": null,
      "outputs": []
    },
    {
      "cell_type": "markdown",
      "metadata": {
        "id": "PCEvfgLQj1Iv"
      },
      "source": [
        "### 3.3. Inventario\n",
        "\n",
        "Elabora una estructura de datos, del tipo que desees, de los siguientes datos.\n",
        "\n",
        "| Insumo | Cantidad en inventario | Presentación | Costo - proveedor |\n",
        "| -------- | --------------- | -------------- | ------ |\n",
        "| Hipoclorito | $500 [mL]$    | $1000 [mL]$       | $\\$5.000$ |\n",
        "| Etanol      | $5.000 [mL]$      | $20.000 [mL]$       | $\\$110.000$ |\n",
        "| Sulfato de potasio | $1.000 [mL]$ | $5.000 [mL]$      | $\\$20.000$ |\n",
        "| Surfactante | $500 [mL]$     | $1.000 [mL]$      | $\\$8.000$  |"
      ]
    },
    {
      "cell_type": "code",
      "metadata": {
        "id": "Sb97msaxkRP8"
      },
      "source": [
        ""
      ],
      "execution_count": null,
      "outputs": []
    },
    {
      "cell_type": "markdown",
      "metadata": {
        "id": "pfMigPS6kZuo"
      },
      "source": [
        "### 3.4. Ejemplo: _Formulaciones_\n",
        "\n",
        "Con base en las siguientes formulaciones, elabora una estructura de datos.\n",
        "\n",
        "| Producto | Materias primas | Valor unitario |\n",
        "| -------- | --------------- | -------------- |\n",
        "|                | Agua - 300 mL  | |\n",
        "| __Límpido 500 mL__ |  Hipoclorito - 50 mL  | $\\$3.000$ |\n",
        "|                | Etanol - 150 mL      |           |\n",
        "| |\n",
        "| |\n",
        "|  | Sulfato de potasio - 50 mL |   |\n",
        "|   __Jabón líquido 300 mL__ | Agua - 200 mL              | $\\$1.500$ |\n",
        "|  | Surfactante - 50 mL | |\n",
        "| |"
      ]
    },
    {
      "cell_type": "code",
      "metadata": {
        "id": "qOA9bR0AkgNU"
      },
      "source": [
        "HashMap<String, HashMap> productos = new HashMap<String, HashMap>();  //Map vacío de productos\n",
        "\n",
        "//---Límpido 500 mL---\n",
        "//Se construyen, primero, el contenido de las formulaciones y el precio\n",
        "HashMap<String, Object> producto = new HashMap<String, Object>(); //String -> palabra clave\n",
        "                                                                  //Object -> almacenar contenidos tipo 'array' e 'int'\n",
        "\n",
        "producto.put(\"Fórmula\", new Object[]{\"Agua - 300 mL\", \"Hipoclorito - 50 mL\", \"Etanol - 150 mL\"});\n",
        "producto.put(\"Precio\", 3000);\n",
        "\n",
        "//Se almacena en el Map de productos\n",
        "productos.put(\"Límpido 500 mL\", producto);\n",
        "\n",
        "//---Jabón líquido 300 mL---\n",
        "producto = new HashMap<String, Object>();   //Reiniciar información del producto\n",
        "\n",
        "producto.put(\"Fórmula\", new Object[]{\"Sulfato de potasio - 50 mL\", \"Agua - 200 mL\", \"Surfactante - 50 mL\"});\n",
        "producto.put(\"Precio\", 1500);\n",
        "\n",
        "productos.put(\"Jabón líquido 300 mL\", producto);\n",
        "\n",
        "//---Impresión de resultado---\n",
        "System.out.println(productos);"
      ],
      "execution_count": null,
      "outputs": []
    },
    {
      "cell_type": "markdown",
      "metadata": {
        "id": "CVcihoIJ0Z50"
      },
      "source": [
        "### 3.5. Recetas\n",
        "\n",
        "La receta de diferentes platos se pueden apreciar en el siguiente cuadro resumen:\n",
        "\n",
        "| Nombre del plato | Ingredientes | Precio de venta | \n",
        "| ---------------- | ------------ | --------------- |\n",
        "| | Huevo - 2 | |\n",
        "| | Pan - 2 | |\n",
        "| __Hamburguesa ranchera__ | Carne - 1 | $\\$18.000$ |\n",
        "| | Lechuga - 1 | |\n",
        "| | Tomate - 2 | |\n",
        "| | | | \n",
        "| | | |\n",
        "| | Pan - 1 | |\n",
        "| __Perro sencillo__ | salchicha - 1 | $\\$5.000$ | \n",
        "| | Papa ripio - 200 gr | |\n"
      ]
    },
    {
      "cell_type": "code",
      "metadata": {
        "id": "lKdbGAbm45eU"
      },
      "source": [
        ""
      ],
      "execution_count": null,
      "outputs": []
    },
    {
      "cell_type": "markdown",
      "metadata": {
        "id": "lucbt5tjmsnS"
      },
      "source": [
        "## __Ejercicio _retador___\n",
        "\n",
        "Eres el dueño de una empresa que elabora productos de aseo. En el siguiente cuadro resumen tienes la información de tus productos.\n",
        "\n",
        "<div align=\"center\">\n",
        "\n",
        "| Producto | Materias primas | Valor unitario |\n",
        "| -------- | --------------- | -------------- |\n",
        "|                | Agua - 300 mL  | |\n",
        "| __Límpido 500 mL__ |  Hipoclorito - 50 mL  | $\\$3.000$ |\n",
        "|                | Etanol - 150 mL      |           |\n",
        "| |\n",
        "| |\n",
        "|  | Sulfato de potasio - 50 mL |   |\n",
        "|   __Jabón líquido 300 mL__ | Agua - 200 mL              | $\\$1.500$ |\n",
        "|  | Surfactante - 50 mL | |\n",
        "| |\n",
        "\n",
        "<i>Tabla 1.</i> Resumen de productos.\n",
        "\n",
        "</div>\n",
        "\n",
        "El resumen de inventarios se puede apreciar en la Tabla 2.\n",
        "\n",
        "<div align=\"center\">\n",
        "\n",
        "| Insumo | Cantidad en inventario | Presentación | Costo - proveedor |\n",
        "| -------- | --------------- | -------------- | ------ |\n",
        "| Hipoclorito | $500 [mL]$    | $1000 [mL]$       | $\\$5.000$ |\n",
        "| Etanol      | $5.000 [mL]$      | $20.000 [mL]$       | $\\$110.000$ |\n",
        "| Sulfato de potasio | $1.000 [mL]$ | $5.000 [mL]$      | $\\$20.000$ |\n",
        "| Surfactante | $500 [mL]$     | $1.000 [mL]$      | $\\$8.000$  |\n",
        "\n",
        "<i>Tabla 2.</i> Resumen de inventario.\n",
        "\n",
        "</div>\n",
        "\n",
        "Elabora funciones que te permitan:\n",
        "\n",
        "1. Cuantificar cuántos productos se pueden elaborar con base en los insumos disponibles en inventario. Con ello, identificar los insumos críticos en inventario (los que menor cantidad de productos permiten elaborar).\n",
        "2. Elaborar un algoritmo interactivo que permita almacenar información de ventas.\n",
        "3. Al algoritmo realizado, adaptar otra función que permita eliminar artículos.\n",
        "4. Cuantificar los ingresos por ventas. \n",
        "\n"
      ]
    },
    {
      "cell_type": "code",
      "metadata": {
        "id": "IIY2Bte8ro7V"
      },
      "source": [
        ""
      ],
      "execution_count": null,
      "outputs": []
    }
  ]
}