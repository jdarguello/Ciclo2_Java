{
  "nbformat": 4,
  "nbformat_minor": 0,
  "metadata": {
    "colab": {
      "name": "AbstractJava.ipynb",
      "provenance": [],
      "collapsed_sections": [],
      "include_colab_link": true
    },
    "kernelspec": {
      "name": "java",
      "display_name": "java"
    }
  },
  "cells": [
    {
      "cell_type": "markdown",
      "metadata": {
        "id": "view-in-github",
        "colab_type": "text"
      },
      "source": [
        "<a href=\"https://colab.research.google.com/github/jdarguello/Ciclo2_Java/blob/master/AbstractJava.ipynb\" target=\"_parent\"><img src=\"https://colab.research.google.com/assets/colab-badge.svg\" alt=\"Open In Colab\"/></a>"
      ]
    },
    {
      "cell_type": "markdown",
      "metadata": {
        "id": "PtfjlyYaSgIw"
      },
      "source": [
        "<div align=\"center\">\n",
        "  <h1><strong>Clases <i>abstractas</i> e Interfaces</strong></h1>\n",
        "  <strong>Hecho por:</strong> Juan David Argüello Plata\n",
        "</div>\n",
        "\n",
        "\n",
        "## __Introducción__\n",
        "\n",
        "<div align=\"justify\">\n",
        "\n",
        "Los conceptos tratados en el presente documento complementan las herramientas vistas anteriormente para el establecimiento de relaciones de herencia entre clases. \n",
        "\n",
        "</div>\n",
        "\n",
        "---\n",
        "\n",
        "_Nota:_ __ejecuta__ este primer bloque de código antes de utilizar el material interactivo, luego debes recargar la página &#8635; para poder usarlo sin problema."
      ]
    },
    {
      "cell_type": "code",
      "metadata": {
        "id": "u9zHtHc0vjoR",
        "collapsed": true
      },
      "source": [
        "!wget https://github.com/SpencerPark/IJava/releases/download/v1.3.0/ijava-1.3.0.zip\n",
        "!unzip ijava-1.3.0.zip\n",
        "!python install.py --sys-prefix"
      ],
      "execution_count": null,
      "outputs": []
    },
    {
      "cell_type": "markdown",
      "metadata": {
        "id": "hmomH5jyFYn8"
      },
      "source": [
        "## __1. Clases _abstractas___\n",
        "\n",
        "<div align=\"justify\">\n",
        "\n",
        "Es posible construir clases que se emplean como un simple _formato_ a la hora de establecer relaciones de herencia. Se tratan como un cascarón que simplemente dejan en evidencia la existencia de atributos y métodos, pero sin especificar en detalle su contenido. Se trata de una estructura que se reparte entre las subclases durante la relación de herencia. Normalmente se utiliza cuando los métodos de la superclase __no__ son capaces de manera caracterizar de manera adecuada el significado de un concepto particular en las subclases. La estructura de una clase abstracta se puede apreciar a continuación:\n",
        "\n",
        "```\n",
        "abstract class nombre_clase {\n",
        "  //Atributos\n",
        "  ...\n",
        "\n",
        "  //Métodos\n",
        "  abstract <naturaleza> nombre_metodo();                 //método abstracto\n",
        "\n",
        "  <privacidad> <natrualeza> nombre_metodo(entradas) {    //método convencional\n",
        "    (desarrollo)\n",
        "    return salidas;\n",
        "  }\n",
        "}\n",
        "```\n",
        "\n",
        "Al igual que las clases abstractas, los _métodos abstractos_ sólo buscan definir la existencia del método particular sin brindar detalles específicos.\n",
        "\n",
        "Un ejemplo de clase abstracta puede ser cuando se habla de figuras geométricas. Se puede caracterizar una figura geométrica a través de sus dimensiones, pero a pesar de que todas tengan un área y un perímetro, el procedimiento de cálculo de cada una de ellas es diferente y particular.\n",
        "\n",
        "</div>"
      ]
    },
    {
      "cell_type": "code",
      "metadata": {
        "id": "DHwR-VxxjmAF"
      },
      "source": [
        "//Clase abstracta - Figura geométrica\n",
        "abstract class Figura_geometrica {\n",
        "  //---Atributos---\n",
        "  public double[] dimensiones;\n",
        "  public double[] coordenadas = {0,0};\n",
        "\n",
        "  //---Métodos---\n",
        "  abstract double perimetro();\n",
        "  abstract double area();\n",
        "}"
      ],
      "execution_count": 11,
      "outputs": []
    },
    {
      "cell_type": "code",
      "metadata": {
        "id": "o2mo0EPIQZ72"
      },
      "source": [
        "//Clase círculo\n",
        "import java.lang.Math;\n",
        "\n",
        "class Circulo extends Figura_geometrica {\n",
        "  public Circulo(double radio) {\n",
        "    dimensiones = new double[] {radio};\n",
        "  }\n",
        "\n",
        "  public Circulo(double radio, double[] coords) {\n",
        "    dimensiones = new double[] {radio};\n",
        "    coordenadas = coords;\n",
        "  } \n",
        "\n",
        "  public double perimetro() {\n",
        "    return 2*Math.PI*dimensiones[0];\n",
        "  }\n",
        "\n",
        "  public double area() {\n",
        "    return Math.PI*Math.pow(dimensiones[0],2);\n",
        "  }\n",
        "}"
      ],
      "execution_count": null,
      "outputs": []
    },
    {
      "cell_type": "code",
      "metadata": {
        "id": "Ta6iNpxaPzQu"
      },
      "source": [
        "//Clase rectángulo\n",
        "class Rectangulo extends Figura_geometrica {\n",
        "\n",
        "  public Rectangulo (double ancho, double alto) {\n",
        "    dimensiones = new double[] {ancho, alto};\n",
        "  }\n",
        "\n",
        "  public Rectangulo (double ancho, double alto, double[] coords) {\n",
        "    dimensiones = new double[] {ancho, alto};\n",
        "    coordenadas = coords;\n",
        "  }\n",
        "\n",
        "  public double perimetro() {\n",
        "    return 2*(dimensiones[0] + dimensiones[1]);\n",
        "  }\n",
        "\n",
        "  public double area() {\n",
        "    return dimensiones[0]*dimensiones[1];\n",
        "  }\n",
        "}"
      ],
      "execution_count": null,
      "outputs": []
    },
    {
      "cell_type": "code",
      "metadata": {
        "id": "-s7LkCU3Q8rd"
      },
      "source": [
        "//----Creación de objetos----\n",
        "Rectangulo rect = new Rectangulo(5,10);\n",
        "\n",
        "System.out.println(\"Perímetro = \" + rect.perimetro());\n",
        "System.out.println(\"Área = \" + rect.area());"
      ],
      "execution_count": null,
      "outputs": []
    },
    {
      "cell_type": "markdown",
      "metadata": {
        "id": "6Ic8Cqz-ZQod"
      },
      "source": [
        "## __2. Interfaces__\n",
        "\n",
        "<div align=\"justify\">\n",
        "\n",
        "Las interfaces permiten especificar qué hace una clase pero no la forma en cómo lo hace. En cuanto a estructura, son similares a las clases, pero se diferencian de ellas por carecer de la posibilidad de instanciar variables (atributos); además de que los métodos en una interface carecen de un cuerpo. Una vez son definidas, a diferencia de las _clases_ y las _clases abstractas_, se pueden implementar en diferentes numeros de clases. De igual forma, una clase puede implementar cualquier número de interfaces. Manejan la siguiente _estructura:_\n",
        "\n",
        "```\n",
        "<privacidad> interface nombre {\n",
        "  //--Atributos--\n",
        "  <naturaleza> nom_atributo = contenido;\n",
        "  ...\n",
        "\n",
        "  //--Métodos--\n",
        "  <naturaleza> nombre_metodo (entradas);\n",
        "  ...\n",
        "}\n",
        "```\n",
        "\n",
        "La forma en cómo se emplea dentro de una clase es:\n",
        "\n",
        "```\n",
        "class nombre_clase [(herencia)extends clase_padre] [implements interfaces] {\n",
        "  //--Atributos--\n",
        "  ...\n",
        "\n",
        "  //--Métodos--\n",
        "  ...\n",
        "}\n",
        "```\n",
        "\n",
        "La implementación de las interfaces en clases se asumen como _\"un contrato\"_. Una interfaz se define como una serie de comportamientos comunes; es decir: cuando la clase implementa una interfaz, está obligada a emplear y cambiar los métodos originalmente abstractos. La clave del uso de las interfaces recaen en el uso del _polimorfismo_, en donde la clase debe crear los métodos especificados por la interfaz.\n",
        "\n",
        "Por ejemplo: para la creación de una clase calculadora, se podría pensar en implementar diferentes métodos de suma, resta, multiplicación y/o división.\n",
        "\n",
        "</div>"
      ]
    },
    {
      "cell_type": "code",
      "metadata": {
        "id": "mEiT3-uSa9zh"
      },
      "source": [
        "interface calculos_suma {\n",
        "  int suma (int x, int y);\n",
        "  int suma (int x, int y, int z);\n",
        "  int suma (int[] nums);\n",
        "}\n",
        "\n",
        "interface calculos_resta {\n",
        "  int resta (int x, int y);\n",
        "  int resta (int x, int y, int z);\n",
        "  int resta (int[] nums);\n",
        "}"
      ],
      "execution_count": null,
      "outputs": []
    },
    {
      "cell_type": "code",
      "metadata": {
        "id": "aAmeG8_aeX6g"
      },
      "source": [
        "class Calculadora implements calculos_suma {\n",
        "  public int suma (int x, int y) {\n",
        "    return x+y;\n",
        "  }\n",
        "\n",
        "  public int suma (int x, int y, int z) {\n",
        "    return x+y+z;\n",
        "  }\n",
        "\n",
        "  public int suma (int[] numeros) {\n",
        "    int sumatoria = 0;\n",
        "    for (int num: numeros) {\n",
        "      sumatoria += num;\n",
        "    }\n",
        "    return sumatoria;\n",
        "  }\n",
        "}"
      ],
      "execution_count": null,
      "outputs": []
    },
    {
      "cell_type": "code",
      "metadata": {
        "id": "0OxwW647fCxv"
      },
      "source": [
        "Calculadora calc = new Calculadora();\n",
        "\n",
        "calc.suma(2,3);"
      ],
      "execution_count": null,
      "outputs": []
    },
    {
      "cell_type": "markdown",
      "metadata": {
        "id": "T-4m5X2bgwLl"
      },
      "source": [
        ""
      ]
    }
  ]
}