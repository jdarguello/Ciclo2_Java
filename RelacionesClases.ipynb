{
  "nbformat": 4,
  "nbformat_minor": 0,
  "metadata": {
    "colab": {
      "name": "RelacionesClases.ipynb",
      "provenance": [],
      "collapsed_sections": [],
      "include_colab_link": true
    },
    "kernelspec": {
      "name": "java",
      "display_name": "java"
    }
  },
  "cells": [
    {
      "cell_type": "markdown",
      "metadata": {
        "id": "view-in-github",
        "colab_type": "text"
      },
      "source": [
        "<a href=\"https://colab.research.google.com/github/jdarguello/Ciclo2_Java/blob/master/RelacionesClases.ipynb\" target=\"_parent\"><img src=\"https://colab.research.google.com/assets/colab-badge.svg\" alt=\"Open In Colab\"/></a>"
      ]
    },
    {
      "cell_type": "markdown",
      "metadata": {
        "id": "PtfjlyYaSgIw"
      },
      "source": [
        "<div align=\"center\">\n",
        "  <h1><strong>Relaciones entre <i>Clases</i></strong></h1>\n",
        "  <strong>Hecho por:</strong> Juan David Argüello Plata\n",
        "</div>\n",
        "\n",
        "\n",
        "## __Introducción__\n",
        "\n",
        "<div align=\"justify\">\n",
        "\n",
        "Las _relaciones_ entre clases constituyen la comunicación entre diferentes algoritmos. Si una clase nos permite establecer una estructura de programación, las relaciones entre ellas facilitan el desarrollo de software.\n",
        "\n",
        "</div>\n",
        "\n",
        "---\n",
        "\n",
        "_Nota:_ __ejecuta__ este primer bloque de código antes de utilizar el material interactivo, luego debes recargar la página &#8635; para poder usarlo sin problema."
      ]
    },
    {
      "cell_type": "code",
      "metadata": {
        "id": "u9zHtHc0vjoR",
        "collapsed": true
      },
      "source": [
        "!wget https://github.com/SpencerPark/IJava/releases/download/v1.3.0/ijava-1.3.0.zip\n",
        "!unzip ijava-1.3.0.zip\n",
        "!python install.py --sys-prefix"
      ],
      "execution_count": null,
      "outputs": []
    },
    {
      "cell_type": "markdown",
      "metadata": {
        "id": "a5zR8ZddQUXN"
      },
      "source": [
        "## __Tipos de relaciones__\n",
        "\n",
        "Existen diferentes tipos de relaciones entre clases, entre ellas se destacan:\n",
        "\n",
        "* __Asociación:__ Establece una conexión básica entre una clase y otra. Consiste en crear la instancia de una clase (objeto) dentro de otra.\n",
        "\n",
        "* __Agregación:__ tipo especial de asociación que establece una independencia entre los objetos; es decir: la existencia de los objetos es independiente de la relación.\n",
        "\n",
        "* __Composición:__ a diferencia de la relación de agregación, establece una dependencia directa entre los objetos. Uno de ellos no puede existir sin el otro.\n",
        "\n",
        "* __Multiplicidad:__ define un número de relaciones entre clases. Por ejemplo: el número de empleados en una empresa, el número de bancos en una ciudad, etc.\n",
        "\n",
        "* __Herencia:__ Categoriza las clases en subclases (_hijos_) y superclase (_padre_). Las subclases heredan los métodos y atributos de la superclase. Algunas superclases se pueden llegar a catalogar como una _\"clase abstracta\"_ debido a que, normalmente, se emplean como un formato general para las clases derivadas. Este concepto se verá en detalle en clases posteriores.\n",
        "\n",
        "* __Polimorfismo:__ permite cambiar la forma de los métodos heredados a las subclases. Se verá en detalle en clases posteriores."
      ]
    },
    {
      "cell_type": "markdown",
      "metadata": {
        "id": "HMYaJyGyeB7J"
      },
      "source": [
        "## __1. Asociación__\n",
        "\n",
        "Brinda una relación básica entre un objeto y otro. Por ejemplo: una interfaz interactiva con un sistema de facturación.\n",
        "\n",
        "<div align=\"center\">\n",
        "\n",
        "<img src=\"data:image/png;base64,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\">\n",
        "\n",
        "<i>Figura 1.</i> Diagrama UML - ejemplo.\n",
        "\n",
        "</div>"
      ]
    },
    {
      "cell_type": "code",
      "metadata": {
        "id": "CR6qOboLeBNz"
      },
      "source": [
        "import java.util.Scanner;\n",
        "\n",
        "class POS {\n",
        "  //Atributos\n",
        "  private static HashMap<String, Integer> productos = new HashMap() {{\n",
        "    put(\"Helado vainilla\", 1_000);\n",
        "    put(\"Helado chocolate\", 1_200);\n",
        "    put(\"Helado chicle\", 800);\n",
        "  }};\n",
        "  private Object[][] articulos = {};\n",
        "\n",
        "  //---Métodos---\n",
        "  public void restart() {\n",
        "    //Objetivo: reiniciar la variable artículos\n",
        "    articulos = new Object[][] {};\n",
        "  }\n",
        "\n",
        "  public void add(String articulo, byte cantidad) {\n",
        "    articulos = Arrays.copyOf(articulos, articulos.length +1);\n",
        "    articulos[articulos.length-1] = new Object[] {articulo, cantidad};\n",
        "  }\n",
        "\n",
        "  public int total() {\n",
        "    //Objetivo: calcular el total de compra\n",
        "    int total = 0;\n",
        "    for (Object[] art: articulos) {\n",
        "      total += ((byte)art[1])*productos.get(((String)art[0]));\n",
        "    }\n",
        "    return total;\n",
        "  }\n",
        "}\n",
        "\n",
        "class Interfaz {\n",
        "  //---Métodos---\n",
        "  public Interfaz() {\n",
        "    //Herramientas\n",
        "    POS factura = new POS();\n",
        "    Scanner input = new Scanner(System.in);\n",
        "\n",
        "    //Interactividad\n",
        "    String art;\n",
        "    byte cantidad;\n",
        "    while (true) {\n",
        "      System.out.println(\"¿Qué artículo deseas comprar?\");\n",
        "      art = input.nextLine();\n",
        "      System.out.println(\"¿Cuánta cantidad?\");\n",
        "      cantidad = input.nextByte();\n",
        "      factura.add(art, cantidad);   //Adición de artículos a la factura -> Método POS.add()\n",
        "\n",
        "      System.out.println(\"Subtotal = $\" + factura.total());\n",
        "      System.out.println(\"¿Deseas seguir comprando? (s/n)\");\n",
        "      if ((input.next()).equals(\"n\")) {\n",
        "        break;\n",
        "      }\n",
        "      input.nextLine();\n",
        "    }\n",
        "    System.out.println(\"El total de tu compra fue: $\" + factura.total());\n",
        "    factura.restart();  //Reinicia los atributos POS\n",
        "  }\n",
        "}\n",
        "//--------------------------------------------------------------------------------------------\n",
        "\n",
        " Interfaz negocio1 = new Interfaz();\n"
      ],
      "execution_count": null,
      "outputs": []
    },
    {
      "cell_type": "markdown",
      "metadata": {
        "id": "S-lyHKCWR9Lh"
      },
      "source": [
        "## __2. Agregación__\n",
        "\n",
        "Establece una relación asociativa entre varios objetos. Por ejemplo: la relación entre un colegio y sus estudiantes. Esta relación puede tener una gran variedad de detalles, pero para un ejemplo preliminar, se puede establecer una estructura básica como la que se muestra en la Figura 1.\n",
        "\n",
        "<div align=\"center\">\n",
        "\n",
        "<img src=\"data:image/png;base64,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\" width=\"300px\" height=\"120px\">\n",
        "\n",
        "<i>Figura 2.</i> Relación de asociación entre un colegio y un estudiante.\n",
        "\n",
        "</div>"
      ]
    },
    {
      "cell_type": "code",
      "metadata": {
        "id": "oYX7RvjnXbW4"
      },
      "source": [
        "class Estudiante {\n",
        "  //---Atributos---\n",
        "  String nombre;\n",
        "  byte edad;\n",
        "  byte grado;\n",
        "\n",
        "  //---Métodos---\n",
        "  //Constructor\n",
        "  public Estudiante(String name, byte age, byte grade) {\n",
        "    nombre = name;\n",
        "    edad = age;\n",
        "    grado = grade;\n",
        "  }\n",
        "  public String info() {\n",
        "    return nombre + \" tiene \" + edad + \" años y está en \" + grado + \" grado.\";\n",
        "  }\n",
        "}\n",
        "\n",
        "class Colegio {\n",
        "  //---Atributos---\n",
        "  private String nombre;\n",
        "  private String ubicacion;\n",
        "  private Estudiante[] estudiantes = new Estudiante[]{};\n",
        "\n",
        "  //---Métodos---\n",
        "  public Colegio (String nombre, String ubicacion) {\n",
        "    this.nombre = nombre;\n",
        "    this.ubicacion = ubicacion;\n",
        "  }\n",
        "  public String infoGeneral() {\n",
        "    return nombre + \" está ubicado en \" + ubicacion;\n",
        "  }\n",
        "  public void addEstudiante(Estudiante student) {\n",
        "    //Se expande el vector a través de una copia\n",
        "    estudiantes = Arrays.copyOf(estudiantes, estudiantes.length+1);\n",
        "    //Se añade el estudiante en la última posición \n",
        "    estudiantes[estudiantes.length-1] = student;\n",
        "    System.out.println(\"Se añadió al estudiante \" + student.nombre);\n",
        "  } \n",
        "  public void infoEstudiante(String student_name) { \n",
        "    //Se inicia iterando sobre la base de datos de estudiantes\n",
        "    for (Estudiante est: estudiantes) {\n",
        "      //Se compara si 'student' es igual a 'est'\n",
        "      if ((est.nombre).equals(student_name)) {\n",
        "        System.out.println(est.info());\n",
        "      }\n",
        "    }\n",
        "  }\n",
        "}\n",
        "\n",
        "//---Ejemplo---\n",
        "Colegio san_pedro = new Colegio(\"San Pedro\", \"Cll 45\");\n",
        "\n",
        "System.out.println(san_pedro.infoGeneral());\n",
        "\n",
        "//JUAN CARLOS\n",
        "Estudiante juanca = new Estudiante(\"Juan Carlos\", (byte)14, (byte)8);\n",
        "san_pedro.addEstudiante(juanca);  //Se añade a Juan Carlos al colegio\n",
        "\n",
        "//ALEJANDRA GÓMEZ\n",
        "Estudiante aleja = new Estudiante(\"Alejandra Gómez\", (byte)14, (byte)9);\n",
        "san_pedro.addEstudiante(aleja);   //Se añade a Alejandra Gómez al colegio\n",
        "\n",
        "//INFORMACIÓN\n",
        "System.out.println(\"\\n\");\n",
        "san_pedro.infoEstudiante(juanca.nombre);\n",
        "san_pedro.infoEstudiante(aleja.nombre);"
      ],
      "execution_count": null,
      "outputs": []
    },
    {
      "cell_type": "markdown",
      "metadata": {
        "id": "KrTx_SLXXl6z"
      },
      "source": [
        "Otro ejemplo podría ser la de un empleado y una empresa, como se aprecia en la Figura 3.\n",
        "\n",
        "<div align=\"center\">\n",
        "\n",
        "<img src=\"data:image/png;base64,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\" width=\"300px\" height=\"120px\">\n",
        "\n",
        "<i>Figura 4.</i> Diagrama UML.\n",
        "\n",
        "</div>"
      ]
    },
    {
      "cell_type": "code",
      "metadata": {
        "id": "uVwzm8FjYt5A"
      },
      "source": [
        "class Empleado {\n",
        "  private String nombre;\n",
        "  private String cargo;\n",
        "  private int salario;\n",
        "\n",
        "  public Empleado(String name, String cargoo, int salary) {\n",
        "    nombre = name;\n",
        "    cargo = cargoo;\n",
        "    salario = salary;\n",
        "  }\n",
        "\n",
        "  public void asenso(String cargo, int salario) {\n",
        "    this.cargo = cargo;\n",
        "    this.salario = salario;\n",
        "    System.out.println(nombre + \" es \" + cargo + \" y gana $\" + salario);\n",
        "  }\n",
        "\n",
        "  public Object[] info() {\n",
        "    return new Object[] {nombre, cargo, salario};\n",
        "  }\n",
        "}\n",
        "\n",
        "class Empresa {\n",
        "  //---Atriutos---\n",
        "  private String nombre;\n",
        "  private String ubicacion;\n",
        "  private ArrayList<Empleado> empleados = new ArrayList();\n",
        "\n",
        "  //---Métodos---\n",
        "  public Empresa (String name, String address) {\n",
        "    nombre = name;\n",
        "    ubicacion = address;\n",
        "  }\n",
        "\n",
        "  public String infoGeneral() {\n",
        "    return nombre + \" está ubicada en \" + ubicacion;\n",
        "  }\n",
        "\n",
        "  public void addTrabajador(Empleado worker) {\n",
        "    empleados.add(worker);\n",
        "  }\n",
        "\n",
        "  public void infoTrabajador(String nombre) {\n",
        "    for (Empleado worker: empleados) {\n",
        "      Object[] worker_info = worker.info();\n",
        "      if (((String)worker_info[0]).equals(nombre)) {\n",
        "        System.out.println(worker_info[0] + \" es \" + worker_info[1] + \" y gana $\" + worker_info[2]);\n",
        "        break;\n",
        "      }\n",
        "    }\n",
        "  }  \n",
        "}\n",
        "\n",
        "//------------------------------------------------------------------------------------------------------\n",
        "\n",
        "Empresa McPollo = new Empresa(\"McPollo Floridablanca\", \"Av. Principal\");\n",
        "\n",
        "McPollo.addTrabajador(new Empleado(\"John Alejandro\", \"Maquinista 1\", 1_200_000));\n",
        "McPollo.addTrabajador(new Empleado(\"Johana Alejandra\", \"Maquinista 1\", 1_200_000));\n",
        "\n",
        "McPollo.infoTrabajador(\"Johana Alejandra\");"
      ],
      "execution_count": null,
      "outputs": []
    },
    {
      "cell_type": "markdown",
      "metadata": {
        "id": "DSgIM3wYiUk4"
      },
      "source": [
        "## __3. Composición__\n",
        "\n",
        "Tipo de relación en el que se produce una dependencia existencial entre los objetos. Por ejemplo: la relación entre una persona y su trabajo. "
      ]
    },
    {
      "cell_type": "code",
      "metadata": {
        "id": "S6RIIHsKiUvr"
      },
      "source": [
        "class Trabajo {\n",
        "  private String cargo;\n",
        "  private int salario;\n",
        "  \n",
        "  public Trabajo (String cargo, int salario) {\n",
        "    this.cargo = cargo;\n",
        "    this.salario = salario;\n",
        "  }\n",
        "\n",
        "  public void ascenso (String cargo, int salario) {\n",
        "    this.cargo = cargo;\n",
        "    this.salario = salario;\n",
        "  }\n",
        "\n",
        "  public String descripcion() {\n",
        "    return cargo + \" - $\" + salario;\n",
        "  }\n",
        "\n",
        "}\n",
        "\n",
        "class Persona {\n",
        "  private String nombre;\n",
        "  private byte edad;\n",
        "  private Trabajo job;\n",
        "\n",
        "  public Persona (String name, byte age, Trabajo work) {\n",
        "    nombre = name;\n",
        "    edad = age;\n",
        "    job = work;\n",
        "    System.out.println(\"Se creó la persona \" + nombre + \" de \" + age + \" años. \" + job.descripcion());\n",
        "  }\n",
        "  public void ascender (String cargo, int salario) {\n",
        "    this.job.ascenso(cargo, salario);\n",
        "    System.out.println(nombre + \" ha sido ascendido a \" + this.job.descripcion());\n",
        "  }\n",
        "}\n",
        "\n",
        "//-----------------------------------------------------------------\n",
        "\n",
        "Persona juan = new Persona(\"Juan Esteban\", (byte)22, new Trabajo(\"Operador 1\", 1_200_000));\n",
        "\n",
        "juan.ascender(\"Operador 2\", 2_500_000);"
      ],
      "execution_count": null,
      "outputs": []
    },
    {
      "cell_type": "markdown",
      "metadata": {
        "id": "ciN1O7i-Qnn_"
      },
      "source": [
        "## __4. Ejercicios__\n",
        "\n",
        "### 4.1. Clase "
      ]
    },
    {
      "cell_type": "code",
      "metadata": {
        "id": "MTAJe8ldSb6I"
      },
      "source": [
        ""
      ],
      "execution_count": null,
      "outputs": []
    }
  ]
}