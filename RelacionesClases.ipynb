{
  "nbformat": 4,
  "nbformat_minor": 0,
  "metadata": {
    "colab": {
      "name": "RelacionesClases.ipynb",
      "provenance": [],
      "collapsed_sections": [],
      "include_colab_link": true
    },
    "kernelspec": {
      "name": "java",
      "display_name": "java"
    }
  },
  "cells": [
    {
      "cell_type": "markdown",
      "metadata": {
        "id": "view-in-github",
        "colab_type": "text"
      },
      "source": [
        "<a href=\"https://colab.research.google.com/github/jdarguello/Ciclo2_Java/blob/master/RelacionesClases.ipynb\" target=\"_parent\"><img src=\"https://colab.research.google.com/assets/colab-badge.svg\" alt=\"Open In Colab\"/></a>"
      ]
    },
    {
      "cell_type": "markdown",
      "metadata": {
        "id": "PtfjlyYaSgIw"
      },
      "source": [
        "<div align=\"center\">\n",
        "  <h1><strong>Relaciones entre <i>Clases</i></strong></h1>\n",
        "  <strong>Hecho por:</strong> Juan David Argüello Plata\n",
        "</div>\n",
        "\n",
        "\n",
        "## __Introducción__\n",
        "\n",
        "<div align=\"justify\">\n",
        "\n",
        "Las _relaciones_ entre clases constituyen la comunicación entre diferentes algoritmos. Si una clase nos permite establecer una estructura de programación, las relaciones entre ellas facilitan el desarrollo de software.\n",
        "\n",
        "</div>\n",
        "\n",
        "---\n",
        "\n",
        "_Nota:_ __ejecuta__ este primer bloque de código antes de utilizar el material interactivo, luego debes recargar la página &#8635; para poder usarlo sin problema."
      ]
    },
    {
      "cell_type": "code",
      "metadata": {
        "id": "u9zHtHc0vjoR",
        "collapsed": true
      },
      "source": [
        "!wget https://github.com/SpencerPark/IJava/releases/download/v1.3.0/ijava-1.3.0.zip\n",
        "!unzip ijava-1.3.0.zip\n",
        "!python install.py --sys-prefix"
      ],
      "execution_count": null,
      "outputs": []
    },
    {
      "cell_type": "markdown",
      "metadata": {
        "id": "a5zR8ZddQUXN"
      },
      "source": [
        "## __Tipos de relaciones__\n",
        "\n",
        "Existen diferentes tipos de relaciones entre clases, entre ellas se destacan:\n",
        "\n",
        "* __Asociación:__ Establece una conexión básica entre una clase y otra. Consiste en crear la instancia de una clase (objeto) dentro de otra.\n",
        "\n",
        "* __Agregación:__ tipo especial de asociación que establece una independencia entre los objetos; es decir: la existencia de los objetos es independiente de la relación.\n",
        "\n",
        "* __Composición:__ a diferencia de la relación de agregación, establece una dependencia directa entre los objetos. Uno de ellos no puede existir sin el otro.\n",
        "\n",
        "* __Multiplicidad:__ define un número de relaciones entre clases. Por ejemplo: el número de empleados en una empresa, el número de bancos en una ciudad, etc.\n",
        "\n",
        "* __Herencia:__ Categoriza las clases en subclases (_hijos_) y superclase (_padre_). Las subclases heredan los métodos y atributos de la superclase. Algunas superclases se pueden llegar a catalogar como una _\"clase abstracta\"_ debido a que, normalmente, se emplean como un formato general para las clases derivadas. Este concepto se verá en detalle en clases posteriores.\n",
        "\n",
        "* __Polimorfismo:__ permite cambiar la forma de los métodos heredados a las subclases. Se verá en detalle en clases posteriores."
      ]
    },
    {
      "cell_type": "markdown",
      "metadata": {
        "id": "HMYaJyGyeB7J"
      },
      "source": [
        "## __1. Asociación__\n",
        "\n",
        "Brinda una relación básica entre un objeto y otro. Por ejemplo: una interfaz interactiva con un sistema de facturación.\n",
        "\n",
        "<div align=\"center\">\n",
        "\n",
        "<img src=\"data:image/png;base64,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\">\n",
        "\n",
        "<i>Figura 1.</i> Diagrama UML - ejemplo.\n",
        "\n",
        "</div>"
      ]
    },
    {
      "cell_type": "code",
      "metadata": {
        "id": "CR6qOboLeBNz"
      },
      "source": [
        "import java.util.Scanner;\n",
        "\n",
        "class POS {\n",
        "  //---Atributos---\n",
        "  private static HashMap<String, Integer> productos = new HashMap() {{\n",
        "    put(\"Helado vainilla\", 1_000);\n",
        "    put(\"Helado chocolate\", 1_200);\n",
        "    put(\"Helado chicle\", 800);\n",
        "  }};\n",
        "  private Object[][] articulos = {};\n",
        "\n",
        "  //---Métodos---\n",
        "  public void restart() {\n",
        "    //Objetivo: reiniciar la variable artículos\n",
        "    articulos = new Object[][] {};\n",
        "  }\n",
        "\n",
        "  public void add(String articulo, byte cantidad) {\n",
        "    articulos = Arrays.copyOf(articulos, articulos.length +1);\n",
        "    articulos[articulos.length-1] = new Object[] {articulo, cantidad};\n",
        "  }\n",
        "\n",
        "  public int total() {\n",
        "    //Objetivo: calcular el total de compra\n",
        "    int total = 0;\n",
        "    for (Object[] art: articulos) {\n",
        "      total += ((byte)art[1])*productos.get(((String)art[0]));\n",
        "    }\n",
        "    return total;\n",
        "  }\n",
        "}\n",
        "\n",
        "class Interfaz {\n",
        "  //---Métodos---\n",
        "  public Interfaz() {\n",
        "    //Herramientas\n",
        "    POS factura = new POS();\n",
        "    Scanner input = new Scanner(System.in);\n",
        "\n",
        "    //Interactividad\n",
        "    String art;\n",
        "    byte cantidad;\n",
        "    while (true) {\n",
        "      System.out.println(\"¿Qué artículo deseas comprar?\");\n",
        "      art = input.nextLine();\n",
        "      System.out.println(\"¿Cuánta cantidad?\");\n",
        "      cantidad = input.nextByte();\n",
        "      factura.add(art, cantidad);   //Adición de artículos a la factura -> Método POS.add()\n",
        "\n",
        "      System.out.println(\"Subtotal = $\" + factura.total());\n",
        "      System.out.println(\"¿Deseas seguir comprando? (s/n)\");\n",
        "      if ((input.next()).equals(\"n\")) {\n",
        "        break;\n",
        "      }\n",
        "      input.nextLine();\n",
        "    }\n",
        "    System.out.println(\"El total de tu compra fue: $\" + factura.total());\n",
        "    factura.restart();  //Reinicia los atributos POS\n",
        "  }\n",
        "}\n",
        "//--------------------------------------------------------------------------------------------\n",
        "\n",
        " Interfaz negocio1 = new Interfaz();\n"
      ],
      "execution_count": null,
      "outputs": []
    },
    {
      "cell_type": "markdown",
      "metadata": {
        "id": "S-lyHKCWR9Lh"
      },
      "source": [
        "## __2. Agregación__\n",
        "\n",
        "Establece una relación asociativa entre varios objetos. Por ejemplo: la relación entre un colegio y sus estudiantes. Esta relación puede tener una gran variedad de detalles, pero para un ejemplo preliminar, se puede establecer una estructura básica como la que se muestra en la Figura 1.\n",
        "\n",
        "<div align=\"center\">\n",
        "\n",
        "<img src=\"data:image/png;base64,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\" width=\"300px\" height=\"120px\">\n",
        "\n",
        "<i>Figura 2.</i> Relación de asociación entre un colegio y un estudiante.\n",
        "\n",
        "</div>"
      ]
    },
    {
      "cell_type": "code",
      "metadata": {
        "id": "oYX7RvjnXbW4"
      },
      "source": [
        "class Estudiante {\n",
        "  //---Atributos---\n",
        "  String nombre;\n",
        "  byte edad;\n",
        "  byte grado;\n",
        "\n",
        "  //---Métodos---\n",
        "  //Constructor\n",
        "  public Estudiante(String name, byte age, byte grade) {\n",
        "    nombre = name;\n",
        "    edad = age;\n",
        "    grado = grade;\n",
        "  }\n",
        "  public String info() {\n",
        "    return nombre + \" tiene \" + edad + \" años y está en \" + grado + \" grado.\";\n",
        "  }\n",
        "}\n",
        "\n",
        "class Colegio {\n",
        "  //---Atributos---\n",
        "  private String nombre;\n",
        "  private String ubicacion;\n",
        "  private Estudiante[] estudiantes = new Estudiante[]{};\n",
        "\n",
        "  //---Métodos---\n",
        "  public Colegio (String nombre, String ubicacion) {\n",
        "    this.nombre = nombre;\n",
        "    this.ubicacion = ubicacion;\n",
        "  }\n",
        "  public String infoGeneral() {\n",
        "    return nombre + \" está ubicado en \" + ubicacion;\n",
        "  }\n",
        "  public void addEstudiante(Estudiante student) {\n",
        "    //Se expande el vector a través de una copia\n",
        "    estudiantes = Arrays.copyOf(estudiantes, estudiantes.length+1);\n",
        "    //Se añade el estudiante en la última posición \n",
        "    estudiantes[estudiantes.length-1] = student;\n",
        "    System.out.println(\"Se añadió al estudiante \" + student.nombre);\n",
        "  } \n",
        "  public void infoEstudiante(String student_name) { \n",
        "    //Se inicia iterando sobre la base de datos de estudiantes\n",
        "    for (Estudiante est: estudiantes) {\n",
        "      //Se compara si 'student' es igual a 'est'\n",
        "      if ((est.nombre).equals(student_name)) {\n",
        "        System.out.println(est.info());\n",
        "      }\n",
        "    }\n",
        "  }\n",
        "}\n",
        "\n",
        "//---Ejemplo---\n",
        "Colegio san_pedro = new Colegio(\"San Pedro\", \"Cll 45\");\n",
        "\n",
        "System.out.println(san_pedro.infoGeneral());\n",
        "\n",
        "//JUAN CARLOS\n",
        "Estudiante juanca = new Estudiante(\"Juan Carlos\", (byte)14, (byte)8);\n",
        "san_pedro.addEstudiante(juanca);  //Se añade a Juan Carlos al colegio\n",
        "\n",
        "//ALEJANDRA GÓMEZ\n",
        "Estudiante aleja = new Estudiante(\"Alejandra Gómez\", (byte)14, (byte)9);\n",
        "san_pedro.addEstudiante(aleja);   //Se añade a Alejandra Gómez al colegio\n",
        "\n",
        "//INFORMACIÓN\n",
        "System.out.println(\"\\n\");\n",
        "san_pedro.infoEstudiante(juanca.nombre);\n",
        "san_pedro.infoEstudiante(aleja.nombre);"
      ],
      "execution_count": null,
      "outputs": []
    },
    {
      "cell_type": "markdown",
      "metadata": {
        "id": "KrTx_SLXXl6z"
      },
      "source": [
        "Otro ejemplo podría ser la de un empleado y una empresa, como se aprecia en la Figura 3.\n",
        "\n",
        "<div align=\"center\">\n",
        "\n",
        "<img src=\"data:image/png;base64,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\" width=\"300px\" height=\"120px\">\n",
        "\n",
        "<i>Figura 4.</i> Diagrama UML.\n",
        "\n",
        "</div>"
      ]
    },
    {
      "cell_type": "code",
      "metadata": {
        "id": "uVwzm8FjYt5A"
      },
      "source": [
        "class Empleado {\n",
        "  private String nombre;\n",
        "  private String cargo;\n",
        "  private int salario;\n",
        "\n",
        "  public Empleado(String name, String cargoo, int salary) {\n",
        "    nombre = name;\n",
        "    cargo = cargoo;\n",
        "    salario = salary;\n",
        "  }\n",
        "\n",
        "  public void asenso(String cargo, int salario) {\n",
        "    this.cargo = cargo;\n",
        "    this.salario = salario;\n",
        "    System.out.println(nombre + \" es \" + cargo + \" y gana $\" + salario);\n",
        "  }\n",
        "\n",
        "  public Object[] info() {\n",
        "    return new Object[] {nombre, cargo, salario};\n",
        "  }\n",
        "}\n",
        "\n",
        "class Empresa {\n",
        "  //---Atriutos---\n",
        "  private String nombre;\n",
        "  private String ubicacion;\n",
        "  private ArrayList<Empleado> empleados = new ArrayList();\n",
        "\n",
        "  //---Métodos---\n",
        "  public Empresa (String name, String address) {\n",
        "    nombre = name;\n",
        "    ubicacion = address;\n",
        "  }\n",
        "\n",
        "  public String infoGeneral() {\n",
        "    return nombre + \" está ubicada en \" + ubicacion;\n",
        "  }\n",
        "\n",
        "  public void addTrabajador(Empleado worker) {\n",
        "    empleados.add(worker);\n",
        "  }\n",
        "\n",
        "  public void infoTrabajador(String nombre) {\n",
        "    for (Empleado worker: empleados) {\n",
        "      Object[] worker_info = worker.info();\n",
        "      if (((String)worker_info[0]).equals(nombre)) {\n",
        "        System.out.println(worker_info[0] + \" es \" + worker_info[1] + \" y gana $\" + worker_info[2]);\n",
        "        break;\n",
        "      }\n",
        "    }\n",
        "  }  \n",
        "}\n",
        "\n",
        "//------------------------------------------------------------------------------------------------------\n",
        "\n",
        "Empresa McPollo = new Empresa(\"McPollo Floridablanca\", \"Av. Principal\");\n",
        "\n",
        "McPollo.addTrabajador(new Empleado(\"John Alejandro\", \"Maquinista 1\", 1_200_000));\n",
        "McPollo.addTrabajador(new Empleado(\"Johana Alejandra\", \"Maquinista 1\", 1_200_000));\n",
        "\n",
        "McPollo.infoTrabajador(\"Johana Alejandra\");"
      ],
      "execution_count": null,
      "outputs": []
    },
    {
      "cell_type": "markdown",
      "metadata": {
        "id": "DSgIM3wYiUk4"
      },
      "source": [
        "## __3. Composición__\n",
        "\n",
        "Tipo de relación en el que se produce una dependencia existencial entre los objetos. Por ejemplo: la relación entre una persona y su trabajo. "
      ]
    },
    {
      "cell_type": "code",
      "metadata": {
        "id": "S6RIIHsKiUvr"
      },
      "source": [
        "class Trabajo {\n",
        "  private String cargo;\n",
        "  private int salario;\n",
        "  \n",
        "  public Trabajo (String cargo, int salario) {\n",
        "    this.cargo = cargo;\n",
        "    this.salario = salario;\n",
        "  }\n",
        "\n",
        "  public void ascenso (String cargo, int salario) {\n",
        "    this.cargo = cargo;\n",
        "    this.salario = salario;\n",
        "  }\n",
        "\n",
        "  public String descripcion() {\n",
        "    return cargo + \" - $\" + salario;\n",
        "  }\n",
        "\n",
        "}\n",
        "\n",
        "class Persona {\n",
        "  private String nombre;\n",
        "  private byte edad;\n",
        "  private Trabajo job;\n",
        "\n",
        "  public Persona (String name, byte age, Trabajo work) {\n",
        "    nombre = name;\n",
        "    edad = age;\n",
        "    job = work;\n",
        "    System.out.println(\"Se creó la persona \" + nombre + \" de \" + age + \" años. \" + job.descripcion());\n",
        "  }\n",
        "  public void ascender (String cargo, int salario) {\n",
        "    this.job.ascenso(cargo, salario);\n",
        "    System.out.println(nombre + \" ha sido ascendido a \" + this.job.descripcion());\n",
        "  }\n",
        "}\n",
        "\n",
        "//-----------------------------------------------------------------\n",
        "\n",
        "Persona juan = new Persona(\"Juan Esteban\", (byte)22, new Trabajo(\"Operador 1\", 1_200_000));\n",
        "\n",
        "juan.ascender(\"Operador 2\", 2_500_000);"
      ],
      "execution_count": null,
      "outputs": []
    },
    {
      "cell_type": "markdown",
      "metadata": {
        "id": "ciN1O7i-Qnn_"
      },
      "source": [
        "## __4. Ejercicios__\n",
        "\n",
        "### 4.1. Persona - Trabajo\n",
        "\n",
        "Construye la relación entre una persona y su trabajo. Puedes usar como guía el esquema mostrado:\n",
        "\n",
        "<div align=\"center\">\n",
        "  <img src=\"data:image/png;base64,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\">\n",
        "</div>"
      ]
    },
    {
      "cell_type": "code",
      "metadata": {
        "id": "MTAJe8ldSb6I"
      },
      "source": [
        ""
      ],
      "execution_count": null,
      "outputs": []
    },
    {
      "cell_type": "markdown",
      "metadata": {
        "id": "57uiUgIwZRNe"
      },
      "source": [
        "### 4.2. _Blog personal_\n",
        "\n",
        "Construye la lógica detrás de un blog personal (similar a un foro). \n",
        "\n",
        "<div align=\"center\">\n",
        "  <img src=\"data:image/png;base64,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\">\n",
        "</div>"
      ]
    },
    {
      "cell_type": "code",
      "metadata": {
        "id": "4X5CoadWa9Tv"
      },
      "source": [
        ""
      ],
      "execution_count": null,
      "outputs": []
    },
    {
      "cell_type": "markdown",
      "metadata": {
        "id": "ndvOhjYncdVM"
      },
      "source": [
        "### 4.3. Botiquín salvavidas\n",
        "\n",
        "Estas elaborando un software de control de inventarios de un hospital. \n",
        "\n",
        "<div align=\"center\">\n",
        "  <img src=\"data:image/png;base64,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\">\n",
        "</div>"
      ]
    },
    {
      "cell_type": "code",
      "metadata": {
        "id": "cZgyfFBPgEO7"
      },
      "source": [
        ""
      ],
      "execution_count": null,
      "outputs": []
    },
    {
      "cell_type": "markdown",
      "metadata": {
        "id": "wJ1mTSA3gFck"
      },
      "source": [
        "### 4.4. _Inventario en un hospital_\n",
        "\n",
        "Para complementar la lógica del ejercicio anterior, adaptarás al algoritmo anterior el siguiente sistema de clases."
      ]
    },
    {
      "cell_type": "code",
      "metadata": {
        "id": "jcWja1O4gSss"
      },
      "source": [
        ""
      ],
      "execution_count": null,
      "outputs": []
    }
  ]
}