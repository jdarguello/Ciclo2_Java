{
  "nbformat": 4,
  "nbformat_minor": 0,
  "metadata": {
    "colab": {
      "name": "CondJava.ipynb",
      "provenance": [],
      "collapsed_sections": [],
      "include_colab_link": true
    },
    "kernelspec": {
      "name": "java",
      "display_name": "java"
    }
  },
  "cells": [
    {
      "cell_type": "markdown",
      "metadata": {
        "id": "view-in-github",
        "colab_type": "text"
      },
      "source": [
        "<a href=\"https://colab.research.google.com/github/jdarguello/Ciclo2_Java/blob/master/CondJava.ipynb\" target=\"_parent\"><img src=\"https://colab.research.google.com/assets/colab-badge.svg\" alt=\"Open In Colab\"/></a>"
      ]
    },
    {
      "cell_type": "markdown",
      "metadata": {
        "id": "PtfjlyYaSgIw"
      },
      "source": [
        "<div align=\"center\">\n",
        "  <h1><strong>Condicionales en <i>Java</i></strong></h1>\n",
        "  <strong>Hecho por:</strong> Juan David Argüello Plata\n",
        "</div>\n",
        "\n",
        "---\n",
        "\n",
        "<div align=\"justify\">\n",
        "Se emplean para tomar decisiones durante la ejecución de un algoritmo. Se emplean para realizar comparaciones, principalmente para comparar variables de tipo:\n",
        "\n",
        "* Numéricas.\n",
        "* Texto.\n",
        "\n",
        "Presentan la siguiente estructura general:\n",
        "\n",
        "</div>\n",
        "\n",
        "```\n",
        "  if (condicion1) {\n",
        "    (desarrollo)\n",
        "  } else if (condicion2) {\n",
        "    (desarrollo2)\n",
        "  } else {\n",
        "    (desarrollo3)\n",
        "  }\n",
        "```\n",
        "\n",
        "---\n",
        "\n",
        "_Nota:_ __ejecuta__ este primer bloque de código antes de utilizar el material interactivo, luego debes recargar la página &#8635; para poder usarlo sin problema.\n"
      ]
    },
    {
      "cell_type": "code",
      "metadata": {
        "id": "u9zHtHc0vjoR",
        "collapsed": true
      },
      "source": [
        "!wget https://github.com/SpencerPark/IJava/releases/download/v1.3.0/ijava-1.3.0.zip\n",
        "!unzip ijava-1.3.0.zip\n",
        "!python install.py --sys-prefix"
      ],
      "execution_count": null,
      "outputs": []
    },
    {
      "cell_type": "markdown",
      "metadata": {
        "id": "l57AzpGWSiL1"
      },
      "source": [
        "### __1. Comparaciones numéricas__\n",
        "\n",
        "Las comparaciones numéricas emplean las siguientes condiciones comparativas:\n",
        "\n",
        "| Condición | Significado | \n",
        "| -------- | ----------- |\n",
        "| ==       |  Igual que  | \n",
        "| !=       | Diferente a | \n",
        "| <        | Menor que   |\n",
        "| <=       | Menor o igual a |\n",
        "| >=       | Mayor o igual que |\n",
        "| >        | Mayor a  |\n",
        "\n",
        "\n",
        "<div align=\"center\">\n",
        "  <i>Tabla 1.</i> Resumen de condiciones comparativas. \n",
        "</div>\n",
        "\n",
        "Las condiciones son variables de tipo `boolean`."
      ]
    },
    {
      "cell_type": "code",
      "metadata": {
        "id": "tB_UVXfQSmnB"
      },
      "source": [
        "//Comparación entre dos números\n",
        "byte x = 5;\n",
        "short y = 500;\n",
        "boolean condicion = x < y;\n",
        "System.out.println(\"x = \" + x + \", y = \" + y);\n",
        "System.out.println(\"x < y -> \" + condicion);\n",
        "System.out.println(\"x > y -> \" + (x>y));\n",
        "System.out.println(\"x == y ->\" + (x == y));"
      ],
      "execution_count": null,
      "outputs": []
    },
    {
      "cell_type": "markdown",
      "metadata": {
        "id": "JpokClVXr5Hy"
      },
      "source": [
        "Al realizar comparaciones con los componentes de una estructura de datos, es necesario que el tipo de variable se de tipo numérica. Recuerda que los _arrays_ (vectores) de tipo `Object` no son directamente números o texto, directamente.\n",
        "\n",
        "```\n",
        "Object[] nombre_array = {cont1, cont2, ...};\n",
        "                      //[Object, Object, ...]\n",
        "```"
      ]
    },
    {
      "cell_type": "code",
      "metadata": {
        "id": "I2d0oC7SsLyW"
      },
      "source": [
        "Object[] datos = {\"Cerveza negra\", 30_000}; \n",
        "byte x = 5;\n",
        "\n",
        "//Si haces la comparación de manera directa entre un objeto y un número de tipo byte, ocurrirá un error.\n",
        "System.out.println(x > datos[1]);"
      ],
      "execution_count": null,
      "outputs": []
    },
    {
      "cell_type": "code",
      "metadata": {
        "id": "-SfeNd4YtplA"
      },
      "source": [
        "//Debes convertir el objeto\n",
        "Object[] datos = {\"Cerveza negra\", 30_000}; \n",
        "byte x = 5;\n",
        "\n",
        "System.out.println(x > (int)datos[1]);"
      ],
      "execution_count": null,
      "outputs": []
    },
    {
      "cell_type": "markdown",
      "metadata": {
        "id": "od7IFWkctztT"
      },
      "source": [
        "#### 1.1.1 Transformación entre variables\n",
        "\n",
        "La naturaleza de las variables son supuestas por Java si no se especifica su procedencia. Por ejemplo: si se analiza una suma de una variable 'x', de tipo `float`, con el número $1$, Java asumirá que el número $1$ es de tipo `int`. La respuesta de la suma tomará la naturaleza `float`."
      ]
    },
    {
      "cell_type": "code",
      "metadata": {
        "id": "Kk7DhrHvSXwZ"
      },
      "source": [
        "float x = 50.5f;    //Recuerda que en los números float, debe ir al final una 'f'\n",
        "float z = x+1;\n",
        "System.out.println(\"z = x+1 -> z = \" + z);"
      ],
      "execution_count": null,
      "outputs": []
    },
    {
      "cell_type": "markdown",
      "metadata": {
        "id": "23OjQnFMSmIu"
      },
      "source": [
        "Los decimales, por defecto, los asume de tipo `double`; por lo que si intentas hacer una suma de decimales con `float`..."
      ]
    },
    {
      "cell_type": "code",
      "metadata": {
        "id": "7PzxxZc0Su4n"
      },
      "source": [
        "float x = 3.5f;\n",
        "float z = x+0.5;\n",
        "System.out.println(z);"
      ],
      "execution_count": null,
      "outputs": []
    },
    {
      "cell_type": "markdown",
      "metadata": {
        "id": "rX0ARhYzS5JV"
      },
      "source": [
        "Te arroja un error de _\"tipos incompatibles\"_. Para solucionarlo, puedes hacer dos cosas: cambiar la naturaleza de la variable $z$, de `float` a `double`, o usar `f` al final del número decimal que se está sumando con $x$ ($0.5f$)."
      ]
    },
    {
      "cell_type": "code",
      "metadata": {
        "id": "wwyKgL5_S4p6"
      },
      "source": [
        "float x = 3.5f;\n",
        "float z = x+0.5f;\n",
        "System.out.println(z);"
      ],
      "execution_count": null,
      "outputs": []
    },
    {
      "cell_type": "markdown",
      "metadata": {
        "id": "PThZ6Jh1TRLc"
      },
      "source": [
        "Para convertir una variable de texto en número, puedes hacer lo siguiente:"
      ]
    },
    {
      "cell_type": "code",
      "metadata": {
        "id": "oEm24imOt7Ve"
      },
      "source": [
        "String[] datos = {\"1\", \"120\"};\n",
        "System.out.println(\"byte: \" + Byte.parseByte(datos[1]));        //Conversión a byte\n",
        "System.out.println(\"short: \" + Short.parseShort(datos[1]));     //Conversión a short\n",
        "System.out.println(\"int: \" + Integer.parseInt(datos[1]));       //Conversión a int\n",
        "System.out.println(\"long: \" + Long.parseLong(datos[1]));        //Conversión a long\n",
        "System.out.println(\"float: \" + Float.parseFloat(datos[1]));     //Conversión a float\n",
        "System.out.println(\"double: \" + Double.parseDouble(datos[1]));  //Conversión a double"
      ],
      "execution_count": null,
      "outputs": []
    },
    {
      "cell_type": "markdown",
      "metadata": {
        "id": "4L9qGc7fqPXN"
      },
      "source": [
        "### __1.2. Comparación de variables de texto__\n",
        "\n",
        "Es posible comparar variables de texto en términos de si una variable de texto es _igual_ o diferente."
      ]
    },
    {
      "cell_type": "code",
      "metadata": {
        "id": "GmUs0fAS9VDd"
      },
      "source": [
        "String t1 = \"Ejemplo\";\n",
        "String t2 = \"Example\";\n",
        "\n",
        "//¿Es t1 igual a t2?\n",
        "boolean comparacion = t1 == t2;\n",
        "boolean comparacion2 = t1.equals(t2);\n",
        "System.out.println(comparacion);"
      ],
      "execution_count": null,
      "outputs": []
    },
    {
      "cell_type": "code",
      "metadata": {
        "id": "iZKQHgTO94BF"
      },
      "source": [
        "String t1 = \"Ejemplo\";\n",
        "String t2 = \"Example\";\n",
        "\n",
        "//¿Es t1 diferente a t2?\n",
        "boolean comparacion = t1 != t2;\n",
        "boolean comparacion2 = !t1.equals(t2);\n",
        "System.out.println(comparacion2);"
      ],
      "execution_count": null,
      "outputs": []
    },
    {
      "cell_type": "markdown",
      "metadata": {
        "id": "uqzbXI2e-1Zf"
      },
      "source": [
        "### __2. Estructuras de control condicional__\n",
        "\n",
        "La estructura general de una condicional en Java es la siguiente: \n",
        "\n",
        "```\n",
        "  if (condicion) {\n",
        "    (desarrollo)\n",
        "  } else if (condicion2) {\n",
        "    (desarrollo2)\n",
        "  } else {\n",
        "    (desarrollo3)\n",
        "  }\n",
        "```\n",
        "\n",
        "#### Ejemplo de ejercicio:\n",
        "\n",
        "Elabora un algoritmo interactivo que evalúe si una persona es mayor de edad.\n"
      ]
    },
    {
      "cell_type": "code",
      "metadata": {
        "id": "yRYobzuw_RNt"
      },
      "source": [
        "import java.util.Scanner;\n",
        "\n",
        "//Inicio de la interacción de usuario con Scanner.\n",
        "Scanner input = new Scanner(System.in); //Nombre de la función: input\n",
        "\n",
        "System.out.println(\"Nombre: \");\n",
        "String nombre = input.nextLine();           //Nombre de la persona\n",
        "System.out.println(\"Año de nacimiento: \");\n",
        "short año_nacimiento = input.nextShort();   //Año de nacimiento\n",
        "\n",
        "byte edad = (byte)(2021 - año_nacimiento); \n",
        "\n",
        "String respuesta = nombre + \" nació en \" + año_nacimiento + \" y posiblemente tenga \" + edad + \" años. Por lo que es \";\n",
        "if (edad >= 18) {\n",
        "  respuesta += \"mayor de edad\";\n",
        "} else {\n",
        "  respuesta += \"menor de edad\";\n",
        "}\n",
        "\n",
        "System.out.println(respuesta);"
      ],
      "execution_count": null,
      "outputs": []
    },
    {
      "cell_type": "markdown",
      "metadata": {
        "id": "0bzZR0NCPwVF"
      },
      "source": [
        "### __Ejercicio:__\n",
        "\n",
        "Elabora un algoritmo que identifique el género de una persona.\n"
      ]
    },
    {
      "cell_type": "code",
      "metadata": {
        "id": "IVhK13_yP7Rn"
      },
      "source": [
        "import java.util.Scanner;\n",
        "\n",
        "Scanner input = new Scanner(System.in);\n",
        "\n",
        "System.out.println(\"Nombre: \");\n",
        "String nombre = input.nextLine();\n",
        "System.out.println(\"Género: \");\n",
        "String genero = input.nextLine();\n",
        "\n"
      ],
      "execution_count": null,
      "outputs": []
    }
  ]
}