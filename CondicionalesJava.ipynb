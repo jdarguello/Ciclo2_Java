{
  "nbformat": 4,
  "nbformat_minor": 0,
  "metadata": {
    "colab": {
      "name": "CondicionalesJava.ipynb",
      "provenance": [],
      "collapsed_sections": [],
      "authorship_tag": "ABX9TyO7wh2UUCadGYBUJcvlAxkt",
      "include_colab_link": true
    },
    "kernelspec": {
      "name": "python3",
      "display_name": "Python 3"
    },
    "language_info": {
      "name": "python"
    }
  },
  "cells": [
    {
      "cell_type": "markdown",
      "metadata": {
        "id": "view-in-github",
        "colab_type": "text"
      },
      "source": [
        "<a href=\"https://colab.research.google.com/github/jdarguello/Ciclo2_Java/blob/master/CondicionalesJava.ipynb\" target=\"_parent\"><img src=\"https://colab.research.google.com/assets/colab-badge.svg\" alt=\"Open In Colab\"/></a>"
      ]
    },
    {
      "cell_type": "markdown",
      "metadata": {
        "id": "Z9zv2Hm9Ke8G"
      },
      "source": [
        "<div align=\"center\">\n",
        "  <h1><strong>Condicionales en <i>Java</i></strong></h1>\n",
        "  <strong>Hecho por:</strong> Juan David Argüello Plata\n",
        "</div>\n",
        "\n",
        "---\n",
        "\n",
        "<div align=\"justify\">\n",
        "Se emplean para tomar decisiones durante la ejecución de un algoritmo. Se emplean para realizar comparaciones, principalmente para comparar variables de tipo:\n",
        "\n",
        "* Numéricas.\n",
        "* Texto.\n",
        "\n",
        "Presentan la siguiente estructura general:\n",
        "\n",
        "</div>\n",
        "\n",
        "```\n",
        "  if (condicion1) {\n",
        "    (desarrollo)\n",
        "  } else if (condicion2) {\n",
        "    (desarrollo2)\n",
        "  } else {\n",
        "    (desarrollo3)\n",
        "  }\n",
        "```\n",
        "\n",
        "---\n",
        "\n",
        "_Nota:_ __ejecuta__ este primer bloque de código antes de utilizar el material interactivo, luego debes recargar la página &#8635; para poder usarlo sin problema.\n",
        "\n"
      ]
    },
    {
      "cell_type": "code",
      "metadata": {
        "id": "LCCNNoIaTNx_"
      },
      "source": [
        "!wget https://github.com/SpencerPark/IJava/releases/download/v1.3.0/ijava-1.3.0.zip\n",
        "!unzip ijava-1.3.0.zip\n",
        "!python install.py --sys-prefix"
      ],
      "execution_count": null,
      "outputs": []
    },
    {
      "cell_type": "markdown",
      "metadata": {
        "id": "7QaL3PMQTejR"
      },
      "source": [
        "### __1. Condiciones numéricas__\n",
        "\n",
        "Las condiciones numéricas emplean las siguientes condiciones comparativas:\n",
        "\n",
        "| Condición | Significado | \n",
        "| -------- | ----------- |\n",
        "| ==       |  Igual que  | \n",
        "| !=       | Diferente a | \n",
        "| <        | Menor que   |\n",
        "| <=       | Menor o igual a |\n",
        "| >=       | Mayor o igual que |\n",
        "| >        | Mayor a  |\n",
        "\n",
        "\n",
        "<div align=\"center\">\n",
        "  <i>Tabla 1.</i> Resumen de condiciones comparativas. \n",
        "</div>\n",
        "\n",
        "Las condiciones son variables de tipo `boolean`."
      ]
    },
    {
      "cell_type": "code",
      "metadata": {
        "id": "xYe63dfeKcWo"
      },
      "source": [
        "//Comparación entre dos números\n",
        "System.out.println(\"Hola\");"
      ],
      "execution_count": null,
      "outputs": []
    }
  ]
}